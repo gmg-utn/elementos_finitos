{
 "cells": [
  {
   "cell_type": "markdown",
   "metadata": {},
   "source": [
    "# Modos normales de vibración\n",
    "\n",
    "Nota: a este documento lo podremos ejecutar de manera dinámica si tienen instalado:\n",
    "\n",
    "- Python 3.5 o más nuevo instalado.\n",
    "- [Jupyter Notebook](https://jupyter.readthedocs.io/en/latest/install.html).\n",
    "- [FEniCS](https://fenicsproject.org/).\n",
    "\n",
    "La visualización del mismo es óptima utilizando Jupyter Notebook.\n",
    "\n",
    "### Referencias\n",
    "- Capítulo 11 de M. G. Larson y F. Bengzon, The FEM: theory, implementations and applications, Springer, (2010).\n",
    "\n",
    "- Capítulo 20 sección 5 de O. C. Zienkiewicz, El método de los elementos finitos, Editorial Reverté, (2018). Se puede acceder por la plataforma eLibro de UTN.\n",
    "\n",
    "- Sacamos parte del código del sitio de J. Bleyer, [seguir enlace](https://comet-fenics.readthedocs.io/en/latest/).\n",
    "\n",
    "- Las herramientas importantes que se usan para la resolución de matrices grandes y sparse son: [SLEPc](https://slepc.upv.es/documentation/slepc.pdf) y [PETSc](https://www.mcs.anl.gov/petsc/). Están implementadas en FEniCS."
   ]
  },
  {
   "cell_type": "markdown",
   "metadata": {},
   "source": [
    "## Introducción\n",
    "\n",
    "En este tutorial comentaremos lo que se denomina Análisis Modal. La idea general es estudiar el comportamiento de una estructura en una vibración mecánica de una frecuencia fija. Es decir, encontraremos las frecuencias de oscilación naturales de la estructura. Este análisis se debe hacer en el diseño de piezas para identificar frecuencias de resonancia (por definición, autovalores). Esto es importante porque, como lo vimos en los cursos de mecánica inicial, si la estructura es sometida a una oscilación forzada mediante una excitación externa con una frecuencia similar puede llevar a una resonancia y desgastarla (incluso destruirla). \n",
    "\n",
    "Recordemos cuando estudiamos matrices y calculamos autovalores y autovectores, el procedimiento es el siguiente. Supongamos que tenemos una matriz $K$ de $n\\times n$, un vector $\\mathbf{z}$ de $n\\times 1$. Si le pedimos a la matriz $K$ que sea semidefinida positiva (o definida positiva) entonces existen $n$ autovalores ($\\lambda_{i}$) y sus correspondientes $n$ autovectores ($z_{i}$) que satisfacen la siguiente:\n",
    "\n",
    "$$K \\mathbf{z} = \\lambda \\mathbf{z} \\tag{1}$$\n",
    "\n",
    "las soluciones vienen de a pares $\\left(\\lambda_{i},z_{i}\\right)$. A la solución de este problema se lo denomina **Problema de valores propios estándar**. Otro problema más interesante para nosotros es el **Problema de valores propios generalizados** que nos permite tener información de la vibración dinámica libre de la pieza. A este problema lo podemos escribir como $K \\mathbf{z} = \\lambda M \\mathbf{z}$ o lo que es equivalente:\n",
    "\n",
    "$$K \\mathbf{z} - \\lambda M \\mathbf{z}=0 \\tag{2}$$\n",
    "\n",
    "donde tanto K como M son matrices (de rigidez y de masa). Nuevamente aquí debemos encontrar $\\mathbf{z}$ y $\\lambda$. \n",
    "\n",
    "A continuación mostraremos un razonamiento que nos permitirá entender por qué hablamos de vibración dinámica libre y luego, realizaremos el cómputo con el método de elementos finitos.\n",
    "\n",
    "### Ecuación de balance de momento\n",
    "\n",
    "La formulación dura será la misma, con la diferencia que se asume $b=0$, es decir, el peso distribuido en toda la pieza no lo consideramos (aunque la masa \"inercial\" si, porque estamos interesados en una oscilación en torno a un punto, el problema dinámico):\n",
    "\n",
    "$$ \\left \\{ \\begin{array}{l} \\rho \\ddot{u}-\\nabla\\cdot \\sigma = 0 \\ \\  \\text{en} \\ \\ \\Omega\\times \\text{I} \\\\ u=g\\text{ en } \\ \\partial \\Omega_{D}\\times \\text{I} \\text{ (condición de borde Dirichlet) } \n",
    "\\end{array} \\tag{3}\\right .$$\n",
    "\n",
    "Como relación constitutiva entre $\\sigma$ y $\\varepsilon$, consideramos la siguiente:\n",
    "\n",
    "$$\\sigma = 2\\mu\\varepsilon+\\left(\\lambda tr\\left(\\varepsilon\\right)\\right)I.$$\n",
    "\n",
    "Supongamos que en la Ec. (3) se reemplaza el desplazamiento por la función $u = z sen \\left(\\omega t\\right)$. Es decir, que consideramos desplazamientos oscilatorios de frecuencia $\\omega$ (esto se le dice solución de onda plana). Aquí consideramos que $z$ no depende del tiempo, pero si del espacio. La Ec. (3) queda:\n",
    "\n",
    "$$ \\left \\{ \\begin{array}{l} -\\rho \\omega^{2}zsen\\left(\\omega t\\right)-\\nabla\\cdot \\sigma(z sen\\left(\\omega t\\right)) = 0 \\ \\  \\text{en} \\ \\ \\Omega\\times \\text{I} \\\\ u=g\\text{ en } \\ \\partial \\Omega_{D}\\times \\text{I} \\text{ (condición de borde Dirichlet) } \n",
    "\\end{array} \\tag{4}\\right .$$\n",
    "\n",
    "Esta ecuación se puede simplificar porque es lineal con el $sen\\left(\\omega t\\right)$, y al estar en ambas partes de la misma se puede cancelar, por lo tanto:\n",
    "\n",
    "$$-\\rho \\omega^{2}z-\\nabla\\cdot \\sigma(z) = 0\\tag{5}$$\n",
    "\n",
    "Una vez discretizado el espacio la Ec. (5) se puede pensar como:\n",
    "\n",
    "$$\\left( -\\omega^{2}M+K\\right) \\mathbf{z}=0\\tag{6}$$\n",
    "\n",
    "comparando con la Ec. (2), aquí hemos reemplazado $\\lambda = \\omega^{2}$.\n",
    "\n",
    "### Formulación variacional\n",
    "\n",
    "Para calcular la formulación variacional tomamos la Ec. (5) y multiplicamos por la función de prueba $v$ e integramos en el dominio $\\Omega$. Si aplicamos la fórmula de Green queda:\n",
    " \n",
    "$$\\int_{\\Omega} -\\rho \\omega^{2}z \\ v \\ dx+\\int_{\\Omega} \\sigma \\left(z\\right) : \\varepsilon\\left(v\\right) \\ dx = 0 \\tag{7}.$$\n",
    "\n",
    "Con esta expresión ya podemos discretizar y llegar a la Ec. (6). Noten que la parte izquierda tiene que ver con la masa (aceleración) $M$ y la parte derecha tiene que ver con la rigidez $K$. \n",
    "\n",
    "El ejemplo que mostraremos a continuación es la barra empotrada en voladizo con la que hemos estado trabajando. Comentaremos a continuación el código donde está implementado.\n"
   ]
  },
  {
   "cell_type": "markdown",
   "metadata": {},
   "source": [
    "### Código\n",
    "\n",
    "Todo el código siguiente está implementado en el *ejemplo18.py* subido a la carpeta de ejemplos. El comienzo es similar a lo que veníamos trabajando, no lo repetiremos aquí. "
   ]
  },
  {
   "cell_type": "code",
   "execution_count": 1,
   "metadata": {},
   "outputs": [],
   "source": [
    "from dolfin import *\n",
    "import numpy as np\n",
    "\n",
    "L, B, H = 20., 0.5, 1.\n",
    "Nx = 200\n",
    "Ny = int(B/L*Nx)+1\n",
    "Nz = int(H/L*Nx)+1\n",
    "\n",
    "mesh = BoxMesh(Point(0.,0.,0.),Point(L,B,H), Nx, Ny, Nz)\n",
    "\n",
    "E, nu = Constant(1e5), Constant(0.)\n",
    "rho = Constant(1e-3)\n",
    "mu = E/2./(1+nu)\n",
    "lmbda = E*nu/(1+nu)/(1-2*nu)\n",
    "\n",
    "def eps(v):\n",
    "    return sym(grad(v))\n",
    "def sigma(v):\n",
    "    dim = v.geometric_dimension()\n",
    "    return 2.0*mu*eps(v) + lmbda*tr(eps(v))*Identity(dim)\n",
    "\n",
    "V = VectorFunctionSpace(mesh, 'Lagrange', degree=1)\n",
    "z_ = TrialFunction(V)\n",
    "v = TestFunction(V)\n",
    "\n",
    "def izquierda(x, on_boundary):\n",
    "    return near(x[0],0.)\n",
    "\n",
    "bc = DirichletBC(V, Constant((0.,0.,0.)), izquierda)"
   ]
  },
  {
   "cell_type": "markdown",
   "metadata": {},
   "source": [
    "Construiremos las matrices $M$ y $K$ y utilizaremos solvers específicos para acelerar este tipo de problemas. En general, para matrices grandes y ralas (como lo son las matrices con las que trabajamos aquí) existen herramientas bien desarrolladas de código libre que no pertenecen a FEniCS pero que sin embargo se pueden utilizar desde FEniCS, y este último tiene herramientas para escribir y acceder a aquellas de manera simple. La herramienta más conocida es [PETSc](https://www.mcs.anl.gov/petsc/) (Portable, Extensible Toolkit for Scientific Computation) y una extensión para valores propios [SLEPc](https://slepc.upv.es/documentation/slepc.pdf) (Scalable Library for Eigenvalue Problem Computations).\n",
    "\n",
    "Utilizaremos nuevamente la función *assemble_system* y *assemble* para encontrar las matrices $K$ y $M$ (con el sistema discretizado en los elementos definidos por la malla). Utilizamos la Ec. (7) para definir las formulaciones variacionales, y parte bilineal y lineal.\n",
    "\n",
    "Comenzaremos por la rigidez $K$, para ello utilizamos la parte derecha de la Ec. (7) y la escribimos directamente:"
   ]
  },
  {
   "cell_type": "code",
   "execution_count": 2,
   "metadata": {},
   "outputs": [],
   "source": [
    "k_form = inner(sigma(v),eps(z_))*dx\n",
    "l_form = Constant(1.)*z_[0]*dx"
   ]
  },
  {
   "cell_type": "markdown",
   "metadata": {},
   "source": [
    "Hemos creado también una función *l_form* se le dice \"tipo dummy\", que no tiene sentido físico sino que la utilizaremos para obtener la matriz $K$. Luego le decimos a FEniCS que utilizaremos matrices para las herramientas PETSc, por eso las creamos:"
   ]
  },
  {
   "cell_type": "code",
   "execution_count": 3,
   "metadata": {},
   "outputs": [
    {
     "data": {
      "text/plain": [
       "(<dolfin.cpp.la.PETScMatrix at 0x7f7a1f0bde08>,\n",
       " <dolfin.cpp.la.PETScVector at 0x7f7a1f0bde60>)"
      ]
     },
     "execution_count": 3,
     "metadata": {},
     "output_type": "execute_result"
    }
   ],
   "source": [
    "K = PETScMatrix()\n",
    "b = PETScVector()\n",
    "assemble_system(k_form, l_form, bc, A_tensor=K, b_tensor=b)"
   ]
  },
  {
   "cell_type": "markdown",
   "metadata": {},
   "source": [
    "Aquí ya aplicamos la función *assemble_system* y guardamos en $K$ la matriz de rigidez, noten que a $b$ no lo vamos a utilizar para nada.\n",
    "\n",
    "Para encontrar la matriz $M$, utilizamos la parte izquierda de la Ec. (7) y procedemos como sigue:"
   ]
  },
  {
   "cell_type": "code",
   "execution_count": 4,
   "metadata": {},
   "outputs": [
    {
     "data": {
      "text/plain": [
       "<dolfin.cpp.la.PETScMatrix at 0x7f7a1f0bdf68>"
      ]
     },
     "execution_count": 4,
     "metadata": {},
     "output_type": "execute_result"
    }
   ],
   "source": [
    "m_form = rho*dot(v,z_)*dx\n",
    "M = PETScMatrix()\n",
    "assemble(m_form, tensor=M)"
   ]
  },
  {
   "cell_type": "markdown",
   "metadata": {},
   "source": [
    "Luego, preparamos el solver de SLEPc, específico para obtener valores principales y lo único que tenemos que pasarle son las matrices $K$ y $M$. Con el parámetro *gen_hermitian* la rutina *SLEPcEigenSolver* ya \"entiende\" que tiene que resolver un problema de valores propios generalizados con matrices Hermíticas. El método *shift-and-invert* es un método que se utiliza para acelerar y resolver este tipo de problemas (se puede ver la referencia [SLEPc](https://slepc.upv.es/documentation/slepc.pdf) para una idea del método). "
   ]
  },
  {
   "cell_type": "code",
   "execution_count": 5,
   "metadata": {},
   "outputs": [],
   "source": [
    "eigensolver = SLEPcEigenSolver(K, M)\n",
    "eigensolver.parameters['problem_type'] = 'gen_hermitian'\n",
    "eigensolver.parameters['spectral_transform'] = 'shift-and-invert'\n",
    "eigensolver.parameters['spectral_shift'] = 0."
   ]
  },
  {
   "cell_type": "markdown",
   "metadata": {},
   "source": [
    "Ahora le pedimos a SLEPc que compute los 6 primeros valores principales llamando la función *solve* y extrayendo los correspondientes autovalores y autovectores."
   ]
  },
  {
   "cell_type": "code",
   "execution_count": 6,
   "metadata": {},
   "outputs": [
    {
     "name": "stdout",
     "output_type": "stream",
     "text": [
      "Computando los primeros 6 valores propios...\n",
      "autovalores real e imaginarios:  179.26521989645644 +j* 0.0\n",
      "Con FEM:  2.13092 [Hz]   Teoría:  2.01925 [Hz]\n",
      "autovalores real e imaginarios:  661.9928567754981 +j* 0.0\n",
      "Con FEM:  4.09493 [Hz]   Teoría:  4.03850 [Hz]\n",
      "autovalores real e imaginarios:  7005.429265317485 +j* 0.0\n",
      "Con FEM: 13.32102 [Hz]   Teoría: 12.65443 [Hz]\n",
      "autovalores real e imaginarios:  25498.773962848263 +j* 0.0\n",
      "Con FEM: 25.41440 [Hz]   Teoría: 25.30886 [Hz]\n",
      "autovalores real e imaginarios:  54489.068630293674 +j* 0.0\n",
      "Con FEM: 37.15137 [Hz]   Teoría: 35.43277 [Hz]\n",
      "autovalores real e imaginarios:  193313.33070703843 +j* 0.0\n",
      "Con FEM: 69.97631 [Hz]   Teoría: 70.86554 [Hz]\n"
     ]
    }
   ],
   "source": [
    "N_eig = 6\n",
    "print(\"Computando los primeros {} valores propios...\".format(N_eig))\n",
    "eigensolver.solve(N_eig)\n",
    "from scipy.optimize import root\n",
    "from math import cos, cosh\n",
    "\n",
    "falpha = lambda x: cos(x)*cosh(x)+1\n",
    "alpha = lambda n: root(falpha, (2*n+1)*pi/2.)['x'][0]\n",
    "\n",
    "for i in range(N_eig):\n",
    "    # Extrae los autovalores y autovectores\n",
    "    r, c, rx, cx = eigensolver.get_eigenpair(i)\n",
    "\n",
    "    print('autovalores real e imaginarios: ',r,'+j*',c)\n",
    "    # Frecuencia calculada con FEM\n",
    "    freq_3D = sqrt(r)/2/pi\n",
    "\n",
    "    # Teórica aproximada\n",
    "    if i % 2 == 0: # solución con eje débil\n",
    "        I_bend = H*B**3/12.\n",
    "    else:          # solución con eje fuerte\n",
    "        I_bend = B*H**3/12.\n",
    "    rho1 = 1e-3\n",
    "    E1 = 1e5\n",
    "    freq_beam = alpha(i/2)**2*sqrt(E1*I_bend/(rho1*B*H*L**4))/2/pi\n",
    "    \n",
    "    print(\"Con FEM: {0:8.5f} [Hz]   Teoría: {1:8.5f} [Hz]\".format(freq_3D, freq_beam))\n",
    "\n",
    "    # Inicializo una función que viva en V para guardar los autovalores\n",
    "    eigenmode = Function(V,name=\"Eigenvector \"+str(i))\n",
    "    eigenmode.vector()[:] = rx\n"
   ]
  },
  {
   "cell_type": "markdown",
   "metadata": {},
   "source": [
    "Noten que la función *eigensolver.get_eigenpair* tiene 4 salidas r, c, rx, y cx las dos primeras son la parte real e imaginaria del autovalor y las dos últimas son los autovalores reales e imaginarios (nosotros tendremos sólo parte real en este caso). \n",
    "\n",
    "La siguiente [animación](https://comet-fenics.readthedocs.io/en/latest/_images/vibration_modes.gif) muestra los primeros dos modos en sentido del eje débil y fuerte."
   ]
  },
  {
   "cell_type": "code",
   "execution_count": null,
   "metadata": {},
   "outputs": [],
   "source": []
  }
 ],
 "metadata": {
  "kernelspec": {
   "display_name": "Python 3",
   "language": "python",
   "name": "python3"
  },
  "language_info": {
   "codemirror_mode": {
    "name": "ipython",
    "version": 3
   },
   "file_extension": ".py",
   "mimetype": "text/x-python",
   "name": "python",
   "nbconvert_exporter": "python",
   "pygments_lexer": "ipython3",
   "version": "3.5.2"
  }
 },
 "nbformat": 4,
 "nbformat_minor": 2
}
