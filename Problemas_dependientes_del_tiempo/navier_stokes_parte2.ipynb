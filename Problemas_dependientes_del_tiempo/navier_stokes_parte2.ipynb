{
 "cells": [
  {
   "cell_type": "markdown",
   "metadata": {},
   "source": [
    "# Ecuación de Navier Stokes (ENS)\n",
    "\n",
    "Nota: a este documento lo podremos ejecutar de manera dinámica si tienen instalado:\n",
    "\n",
    "- Python 3.5 o más nuevo instalado.\n",
    "- [Jupyter Notebook](https://jupyter.readthedocs.io/en/latest/install.html).\n",
    "- [FEniCS](https://fenicsproject.org/).\n",
    "\n",
    "La visualización del mismo es óptima utilizando Jupyter Notebook.\n",
    "\n",
    "### Referencias\n",
    "- Larson y Bengzon, The Finite Element Method: Theory, Implementation, and Practice.\n",
    "- Capítulo 20 y 21 de Logg , Mardal y Wells, Automated Solution of Differential Equations by the Finite Element Method.\n",
    "- Utilizamos el ejemplo del tutorial de FEniCS, [seguir enlace](https://fenicsproject.org/pub/tutorial/html/._ftut1009.html).\n",
    "\n",
    "### Introducción\n",
    "\n",
    "En esta clase continuaremos con las ideas del [tutorial anterior](https://github.com/rirastorza/Intro2FEM/blob/master/Problemas_dependientes_del_tiempo/navier_stokes_parte1.ipynb). Desarrollaremos otro ejemplo en el cual se pueden visualizar vórtices y además se modifica la condición de borde del sistema.\n",
    "\n",
    "### Formulación variacional de Ecuaciones de Navier-Stokes para un fluido newtoniano\n",
    "\n",
    "Las ecuaciones son: \n",
    "\n",
    "$$ \\rho\\frac{\\partial\\mathbf{u}}{\\partial t}+ \\rho \\mathbf{u}\\cdot \\nabla u  =  \\nabla \\cdot\\sigma(u,p)+f  \\space\\space\\space en \\space\\space\\space \\Omega \\tag{1} $$\n",
    "\n",
    "$$\\nabla  \\cdot \\mathbf{u}  =  0 \\space  \\space\\space\\space\\space\\space\\space en \\space\\space\\space \\Omega \\tag{2}$$\n",
    "\n",
    "$$\\mathbf{u}  = \\mathbf{u_{0}}  \\space\\space\\space\\space\\space\\space en \\space\\space\\space \\partial\\Omega \\tag{3}$$\n",
    "\n",
    "Recuerden $\\Omega \\subset R^{d} $ y $\\partial\\Omega \\subset R^{d-1}$. Ejemplo, si d= 2 implicaría que estaríamos resolviendo las ecuaciones para un sistema $\\left(x,y\\right)$ y las condicines de borde se las estaríamos aplicando a una línea de ese sistema.\n",
    "\n",
    "Notar que $ \\mathbf{u}  = \\mathbf{u_{0} = 0}$ indica que la velocidad contra la pared del tubo o canal vale cero, esta es una condición muy usada. Aunque si el fluido no moja la pared (imaginar superfice de teflon) esa velocidad no es nula, hay gran discucion en esos casos de cual sería el valor de la velocidad, a esa condición de deslizamiento se le llama \"slipash\" en la literatura.\n",
    "\n",
    "Recordemos también que: \n",
    "\n",
    "$$\\sigma(u,p)= 2 \\mu \\epsilon(u) - p I$$\n",
    "\n",
    "donde $\\sigma(u,p)$ es el tensor de tensiones,$\\mu$ es la viscosidad, y $\\epsilon(u)$ tensor de velocidad de deformación definido como siempre:\n",
    "\n",
    "$$\\epsilon(u) = \\frac{1}{2}(\\nabla u + (\\nabla u)^T).$$\n",
    "\n",
    "Aplicaremos nuevamente el método conocido como **método de división**, en particular, una variante del método propuesto por *Chorin et. al. (Numerical solution of the Navier-Stokes equations, Math. Comp., 22, pp. 745-762, 1968)*: esquema de **corrección de presión inxcremental (Incremental Pressure Correction Scheme IPCS)**. Consta de tres pasos que repasaremos a continuación: \n",
    "\n",
    "#### Paso (1)\n",
    "\n",
    "Calculamos una velocidad tentativa $ \\mathbf{u}^{*}$ avanzando la ecuación de cantidad de movimiento, Ec. (1), $\\rho\\frac{\\partial\\mathbf{u}}{\\partial t}+ \\rho \\mathbf{u}\\cdot \\nabla \\mathbf{u}  =  \\nabla \\cdot\\sigma\\left(\\mathbf{u},p\\right)+f $ \n",
    "\n",
    "mediante un esquema de diferencia finita de punto medio en el tiempo, pero usando la presión $p^{n}$ del intervalo de tiempo anterior, es decir, el tiempo $t^{n}$. También linealizaremos el término convectivo no lineal usando la velocidad conocida $\\mathbf{u}^{n}$ del paso de tiempo anterior, $u^{n}\\cdot\\nabla u^{n}$. El problema variacional para este primer paso es:\n",
    "\n",
    "$$  \\langle\\frac{\\rho(\\mathbf{u}^{*}-\\mathbf{u}^{n}}{\\Delta t}),v\\rangle +  \\langle\\rho(\\mathbf{u}^{n}\\cdot \\nabla \\mathbf{u}^{n},v\\rangle + \\langle\\sigma(\\mathbf{u}^{n+1/2}, p^{n}), \\epsilon(v)\\rangle+ \\langle p^{n}n,v\\rangle_{\\partial\\Omega} - \\langle\\mu \\Delta \\mathbf{u}^{n+1/2}\\cdot n ,v\\rangle_{\\partial\\Omega}= \\langle  f^{n+1}, v\\rangle \\tag{paso 1}$$\n",
    " \n",
    "Notar que $\\mathbf{u}^{n+1/2} \\approx (\\mathbf{u}^{n} + \\mathbf{u}^{n+1})/2$, además debe incluir las condiciones de borde para la velocidad.\n",
    " \n",
    " #### Paso (2)\n",
    " Con la ayuda de $\\mathbf{u}^{*}$ calculamos $p^{n+1}$ de la siguiente manera:\n",
    " \n",
    " $$  \\langle \\nabla p^{n+1}, \\nabla q\\rangle =   \\langle \\nabla p^{n}, \\nabla q\\rangle - \\langle \\left(\\nabla \\cdot \\mathbf{u}^{*}, q\\right)/ \\Delta t \\rangle \\tag{paso 2}$$\n",
    " \n",
    "recordemos que $q$ era la función de prueba para la presión. Acá también es importante y se deben incluir las condiciones de borde para la presión.\n",
    " \n",
    " #### Paso (3) \n",
    "Reemplazamos en la ecuación de conservación de momento, Ec. (1), $\\mathbf{u}^{*}, p^{n}$  y la restamos a la resultante de reemplazar en la misma ecuación $\\mathbf{u}^{n+1}, p^{n+1}$, el resultado es:\n",
    " \n",
    " $$\\frac{\\mathbf{u}^{n+1}- \\mathbf{u}^{*}}{\\Delta t} + \\nabla p^{n+1} - \\nabla p^{n} =0 \\tag{paso 3}$$\n",
    " \n",
    "De la ecuación del Paso (3) ¿qué conocemos y que desconocemos? Repasemos:\n",
    "\n",
    "$ \\mathbf{u}^{*} $ velocidad estimada en el Paso (1) $ p^{n} $ es conocida y $ p^{n+1} $ calculada en el Paso (2).\n",
    " \n",
    "Ahora viene la parte dónde le exijo a la solución satisfacer la Ecuación de conservación de la masa, o sea la ecuación de continuidad, Ec. (2), $\\nabla  \\cdot \\mathbf{u}^{n+1}  =  0 $, entonces:\n",
    " \n",
    " $$\\frac{-\\nabla \\cdot \\mathbf{u}^{*}}{\\Delta t} + \\nabla^{2} p^{n+1} - \\nabla^{2} p^{n} =0 \\tag{paso 3}$$\n",
    " \n",
    "Recordems que $\\mathbf{u}^{*}$ es conocida y que la presión es un escalar, entonces el paso (3) resulta en el problema de Poisson para la $p^{n+1}$, finalmente es posible entonces calcular $\\mathbf{u}^{n+1}$ de la siguiente ecuación:\n",
    " \n",
    "$$  \\langle \\mathbf{u}^{n+1}, v\\rangle =  \\langle \\mathbf{u}^{*}, v\\rangle - \\Delta t \\langle \\nabla (p^{n+1}-p^{n}), v\\rangle $$\n",
    " \n",
    "Resumen: el método logra resolver eficientemente las Ecuaciones de Navier-Stokes para un fluido incompresible resolviendo tres problemas variacionales lineales en cada paso de tiempo, uno para la velocidad, otro para la presión y la ecuación de continuidad que hace que se cumplan efectivamente las dos ecuaciones de balance: **la conservación de la cantidad de movimiento y la conservación de la masa**. \n",
    "\n",
    "### Ejemplo\n",
    "\n",
    "Hemos modificado el ejemplo de FEniCS *ft08_navier_stokes_cylinder.py* actualizando algunas sentencias y modificando otras para que nos funcione. Todo está subido en la carpeta ejemplos con el nombre *ejemplo21.py*.\n",
    "\n",
    "Las diferencias más relevantes respecto del ejemplo anterior son: **la geometría y la condición de contorno**, comenzaremos por la geometría. Se utiliza una geometría (sacada de este [enlace](http://www.featflow.de/en/benchmarks/cfdbenchmarking/flow/dfg_benchmark2_re100.html)) que permite estudiar la performance del FEM en dinámica de un fluido Newtoniano.\n",
    "\n",
    "[<img src=\"geometriaNS2.png\" width=\"600\"/>](geometriaNS2.png)\n",
    "\n",
    "En el gráfico anterior se muestra también la condición de borde de la velocidad en la izquierda, cuya expresión es:\n",
    "\n",
    "$$ \\mathbf{u}\\left(0,y\\right)=\\left[\\frac{4\\times 1.5 y \\left(0.41-y \\right)}{0.41^{2}},0\\right] $$\n",
    "\n",
    "esto es un perfil parabólico de entrada.\n",
    "\n",
    "La figura también muestra la malla, que la construimos utilizando *mshr* restando una circunferencia de un rectángulo."
   ]
  },
  {
   "cell_type": "code",
   "execution_count": null,
   "metadata": {},
   "outputs": [],
   "source": [
    "from __future__ import print_function\n",
    "from fenics import *\n",
    "from mshr import *\n",
    "import numpy as np\n",
    "\n",
    "T = 5.0            # tiempo final\n",
    "num_steps = 5000   # número de pasos\n",
    "dt = T / num_steps # tamaño de paso de tiempo\n",
    "mu = 0.001         # viscosidad\n",
    "rho = 1            # densidad\n",
    "\n",
    "# Creo la malla\n",
    "channel = Rectangle(Point(0, 0), Point(2.2, 0.41))\n",
    "cylinder = Circle(Point(0.2, 0.2), 0.05)\n",
    "domain = channel - cylinder\n",
    "mesh = generate_mesh(domain, 64)"
   ]
  },
  {
   "cell_type": "markdown",
   "metadata": {},
   "source": [
    "La mayoría del script es similar al *ejemplo20.py*, aquí no repetiremos todo. Noten las condiciones de borde como se pueden definir:"
   ]
  },
  {
   "cell_type": "code",
   "execution_count": null,
   "metadata": {},
   "outputs": [],
   "source": [
    "# Condiciones de borde\n",
    "inflow   = 'near(x[0], 0)'\n",
    "outflow  = 'near(x[0], 2.2)'\n",
    "walls    = 'near(x[1], 0) || near(x[1], 0.41)'\n",
    "cylinder = 'on_boundary && x[0]>0.1 && x[0]<0.3 && x[1]>0.1 && x[1]<0.3'"
   ]
  },
  {
   "cell_type": "markdown",
   "metadata": {},
   "source": [
    "La referida al cilindro, donde debemos imponer $ \\mathbf{u}  = \\mathbf{u_{0} = 0}$ como en las paredes inferior y superior: condición de slipash, se escribe de una manera diferente. Lo que significa esa expresión es lo siguiente: si FEniCS encuentra un borde en esa región, entonces tendrá la condición que le impongamos a *cylinder*. En este caso, el borde en esa región ($0.1<x<0.3$ e $0.1<y<0.3$) es la circunferencia.\n",
    "\n",
    "Además el perfil de velocidad de entrada, es un vector que solo tiene componente $x$."
   ]
  },
  {
   "cell_type": "code",
   "execution_count": null,
   "metadata": {},
   "outputs": [],
   "source": [
    "inflow_profile = ('4.0*1.5*x[1]*(0.41 - x[1]) / pow(0.41, 2)', '0')"
   ]
  },
  {
   "cell_type": "markdown",
   "metadata": {},
   "source": [
    "Ahora veamos como se introduce esto:"
   ]
  },
  {
   "cell_type": "code",
   "execution_count": null,
   "metadata": {},
   "outputs": [],
   "source": [
    "bcu_inflow = DirichletBC(V, Expression(inflow_profile, degree=2), inflow)\n",
    "bcu_walls = DirichletBC(V, Constant((0, 0)), walls)\n",
    "bcu_cylinder = DirichletBC(V, Constant((0, 0)), cylinder)\n",
    "bcp_outflow = DirichletBC(Q, Constant(0), outflow)\n",
    "bcu = [bcu_inflow, bcu_walls, bcu_cylinder]\n",
    "bcp = [bcp_outflow]"
   ]
  },
  {
   "cell_type": "markdown",
   "metadata": {},
   "source": [
    "El resto es lo mismo que el otro ejemplo, con la diferencia que aquí guardaremos los datos para poder graficarlos. A diferencia del tutorial de FEniCS aquí lo guardaremos en un archivo pvd."
   ]
  },
  {
   "cell_type": "code",
   "execution_count": null,
   "metadata": {},
   "outputs": [],
   "source": [
    "pdvfile_p = File(\"data/presion.pvd\")\n",
    "pdvfile_u = File(\"data/velocidad.pvd\")"
   ]
  },
  {
   "cell_type": "markdown",
   "metadata": {},
   "source": [
    "Otra **diferencia importante** respecto del *ejemplo20.py* es el solver que vamos a usar. Esto es así porque los sistemas lineales que vamos a utilizar son considerablemente más grandes. El esquema que se utilizará es uno iterativo, es decir, cada paso resolverá el sistema lineal con un método iterativo que es mejor para matrices ralas. Para poder hacer esto se necesitan dos cosas:\n",
    "\n",
    "- Un precondicionador\n",
    "- Un método iterativo del [subespacio de Krylov](https://en.wikipedia.org/wiki/Krylov_subspace)\n",
    "\n",
    "Aquí se utilizarán los del tutorial: el método del Gradiente Biconjugado Estabilizado [BiCGSTAB](https://es.wikipedia.org/wiki/M%C3%A9todo_del_gradiente_biconjugado_estabilizado) y el Método del Gradiente Conjugado. En el caso del BiCGSTAB el precondicionador es *'hypre_amg'* ([Hypre algebraic multigrid (BoomerAMG)](https://hypre.readthedocs.io/en/latest/solvers-boomeramg.html)) y en el caso del Gradiente Conjugado es el *'sor'* (successive over-relaxation). Alguna información más [aquí](https://fenicsproject.org/pub/tutorial/html/._ftut1017.html#ftut:app:solver:prec).\n"
   ]
  },
  {
   "cell_type": "code",
   "execution_count": null,
   "metadata": {},
   "outputs": [],
   "source": [
    "   # Paso 1: Tentative velocity step\n",
    "    b1 = assemble(L1)\n",
    "    [bc.apply(b1) for bc in bcu]\n",
    "    solve(A1, u_.vector(), b1, 'bicgstab', 'hypre_amg')\n",
    "\n",
    "    # Paso 2: Pressure correction step\n",
    "    b2 = assemble(L2)\n",
    "    [bc.apply(b2) for bc in bcp]\n",
    "    solve(A2, p_.vector(), b2, 'bicgstab', 'hypre_amg')\n",
    "\n",
    "    # Paso 3: Velocity correction step\n",
    "    b3 = assemble(L3)\n",
    "    solve(A3, u_.vector(), b3, 'cg', 'sor')"
   ]
  },
  {
   "cell_type": "markdown",
   "metadata": {},
   "source": [
    "Para ver los solvers y los precondicionadores que existen en FEniCS se pueden escribir las siguientes sentencias:"
   ]
  },
  {
   "cell_type": "code",
   "execution_count": null,
   "metadata": {},
   "outputs": [],
   "source": [
    "list_linear_solver_methods()\n",
    "list_krylov_solver_preconditioners()"
   ]
  },
  {
   "cell_type": "markdown",
   "metadata": {},
   "source": [
    "Las figuras que debería obtener si ejecuta el script son las siguientes:\n",
    "\n",
    "[<img src=\"velocidadNS2.png\" width=\"950\"/>](velocidadNS2.png)\n",
    "[<img src=\"presionNS2.png\" width=\"1000\"/>](presionNS2.png)"
   ]
  },
  {
   "cell_type": "markdown",
   "metadata": {},
   "source": [
    "### Comentarios\n",
    "\n",
    "En el capítulo 21 de Logg , Mardal y Wells, Automated Solution of Differential Equations by the Finite Element Method se muestran otros esquemas para resolver la dinámica de fluidos incompresibles. Todos los ejemplos están implementados en un conjunto de scripts denominados *NSbench*. Los esquemas disponibles son los siguientes:\n",
    "\n",
    "- Chorin\n",
    "- IPCS\n",
    "- Consistent splitting scheme (css1)\n",
    "- Consistent splitting scheme (css2)\n",
    "- A least-squares stabilized Galerkin method (g2)\n",
    "- Generalized Richardson iteration on the pressure Schur complement (grpc)\n",
    "\n",
    "de los cuales hemos visto el IPCS. Además, tiene varios problemas clásicos para resolver.\n",
    "\n",
    "Si bien los scripts están desactualizados y no los mantienen, es interesante estudiarlos porque esencialmente no ha cambiado mucho, y gran parte del código se puede reutilizar.\n",
    "\n",
    "En el siguiente [enlace](https://bazaar.launchpad.net/~nsbench/nsbench/main/files) se encuentra el código.\n"
   ]
  },
  {
   "cell_type": "code",
   "execution_count": null,
   "metadata": {},
   "outputs": [],
   "source": []
  }
 ],
 "metadata": {
  "kernelspec": {
   "display_name": "Python 3",
   "language": "python",
   "name": "python3"
  },
  "language_info": {
   "codemirror_mode": {
    "name": "ipython",
    "version": 3
   },
   "file_extension": ".py",
   "mimetype": "text/x-python",
   "name": "python",
   "nbconvert_exporter": "python",
   "pygments_lexer": "ipython3",
   "version": "3.5.2"
  }
 },
 "nbformat": 4,
 "nbformat_minor": 4
}
