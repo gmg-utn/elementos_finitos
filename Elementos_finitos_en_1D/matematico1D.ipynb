{
 "cells": [
  {
   "cell_type": "markdown",
   "metadata": {},
   "source": [
    "# Modelado del problema matemático en 1D\n",
    "\n",
    "En este tutorial utilizaremos coeficientes variables, es decir, en la primer ecuación de este [link](https://github.com/rirastorza/Intro2FEM/blob/master/Elementos_finitos_en_1D/fem1D_Robin.ipynb) tanto $a$ como $f$ serán funciones de $x$. Veremos cómo hacer con FEniCS el ejemplo de la página 37 del [libro de Larson y Bengzon](https://www.springer.com/gp/book/9783642332869)."
   ]
  },
  {
   "cell_type": "markdown",
   "metadata": {},
   "source": [
    "## Ejemplo con coeficientes variables \n",
    "\n",
    "La PDE con condiciones de borde Dirichlet y Robin que resolveremos será:\n",
    "\n",
    "$$ \\left \\{ \\begin{array}{l} -\\underbrace{\\left(0,5+0,06x\\right)}_{a(x)}T^{''}= \\underbrace{0,03\\left(x-6\\right)^{4}}_{f(x)} \\ \\ \\text{ para } \\ \\ x\\in I=\\left(2,8 \\right) \\\\   T(2)=7  \\ \\ \\text{condición de borde Dirichlet} \\\\  T^{'}(8)= 0  \\ \\ \\text{condición de borde Neumann} \\end{array} \\right .$$\n",
    "\n",
    "La formulación variacional en este caso será:\n",
    "\n",
    "$$\\left [\\int_{2}^{8}\\left(0,5+0,06x\\right)v^{'}T^{'}dx + T^{'}(2)v(2) - T^{'}(8)v(8)\\right ] = \\int_{2}^{8} \\ 0,03\\left(x-6\\right)^{4} \\ vdx \\tag{1}$$\n",
    "\n",
    "Reemplazamos las condiciones de contorno, en $x=2$ debe ser cero $v$ para poder cumplir la condición de Dirichlet, pero en $x=8$ no. Entonces quedará:\n",
    "\n",
    "$$\\int_{2}^{8}\\left(0,5+0,06x\\right)v^{'}T^{'}dx = \\int_{2}^{8} \\ 0,03\\left(x-6\\right)^{4} \\ vdx + T^{'}(8)v(8) \\tag{2}$$"
   ]
  },
  {
   "cell_type": "markdown",
   "metadata": {},
   "source": [
    "Con lo visto hasta ahora podemos resolver el problema en FEniCS. Se comienza importando las librerías, definiendo los parámetros y la malla. También definimos el espacio de funciones."
   ]
  },
  {
   "cell_type": "code",
   "execution_count": 6,
   "metadata": {},
   "outputs": [],
   "source": [
    "from __future__ import print_function\n",
    "from fenics import *\n",
    "# Defino la malla\n",
    "nx = 25 #numero de intervalos\n",
    "minx, maxx = 2.0, 8.0 \n",
    "mesh = IntervalMesh(nx, minx, maxx)#malla en 1D \n",
    "V = FunctionSpace(mesh, 'CG',1)#Continuous Lagrange elements\n"
   ]
  },
  {
   "cell_type": "markdown",
   "metadata": {},
   "source": [
    "En el código siguiente se definen las clases que nos indican dónde se aplicarán las condiciones de borde. "
   ]
  },
  {
   "cell_type": "code",
   "execution_count": 7,
   "metadata": {},
   "outputs": [],
   "source": [
    "def borde_iz(x, on_boundary):\n",
    "    tol = 1.E-14\n",
    "    return on_boundary and near(x[0], 2., tol)\n",
    "\n",
    "class borde_der(SubDomain):\n",
    "    def inside(self, x, on_boundary):\n",
    "        tol = 1E-14\n",
    "        return on_boundary and near(x[0], 8, tol)\n",
    "\n",
    "bc_iz = DirichletBC(V, Constant(7.0), borde_iz)\n",
    "bc = [bc_iz]\n",
    "\n",
    "#Función de la malla con parámetro que indica la topología\n",
    "marcadores_bordes = MeshFunction(\"size_t\", mesh, mesh.topology().dim()-1, 0)\n",
    "bcder = borde_der()\n",
    "bcder.mark(marcadores_bordes, 20)\n",
    "#Defino el subdominio de los bordes\n",
    "ds = Measure('ds', domain=mesh, subdomain_data=marcadores_bordes)"
   ]
  },
  {
   "cell_type": "markdown",
   "metadata": {},
   "source": [
    "Ahora hacemos las funciones que representan $a(x)$ y $f(x)$."
   ]
  },
  {
   "cell_type": "code",
   "execution_count": 8,
   "metadata": {},
   "outputs": [],
   "source": [
    "u = TrialFunction(V)\n",
    "v = TestFunction(V)\n",
    "\n",
    "class funcion_a(UserExpression):\n",
    "    def eval(self, values, x):\n",
    "        values[0] = (0.5-0.06*x[0])\n",
    "    def value_shape(self):\n",
    "        return ()\n",
    "\n",
    "class funcion_f(UserExpression):\n",
    "    def eval(self, values, x):\n",
    "        values[0] = 0.03*pow(x[0]-6,4)\n",
    "    def value_shape(self):\n",
    "        return ()\n",
    "    \n",
    "a = funcion_a()\n",
    "f = funcion_f()\n",
    "g = 0.0\n"
   ]
  },
  {
   "cell_type": "markdown",
   "metadata": {},
   "source": [
    "Noten que las funciones las derivamos de la clase UserExpression, y aquí adentro se pasan las funciones. Luego solo queda pasar la función bilineal y lineal, resolver, y graficar."
   ]
  },
  {
   "cell_type": "code",
   "execution_count": 9,
   "metadata": {},
   "outputs": [
    {
     "name": "stdout",
     "output_type": "stream",
     "text": [
      "Tipo de variable: <class 'dolfin.function.function.Function'>\n",
      "Cantidad de celdas: 25\n",
      "Cantidad de vertices: 26\n"
     ]
    },
    {
     "data": {
      "image/png": "[encoded data removed]",
      "text/plain": [
       "<Figure size 432x288 with 1 Axes>"
      ]
     },
     "metadata": {
      "needs_background": "light"
     },
     "output_type": "display_data"
    }
   ],
   "source": [
    "#Definicion abstracta \n",
    "a_bilineal = dot(a*grad(u), grad(v))*dx\n",
    "L_lineal = f*v*dx+g*v*ds(20)\n",
    "\n",
    "# Resuelvo\n",
    "u = Function(V)\n",
    "solve(a_bilineal == L_lineal, u,bc)\n",
    "\n",
    "print('Tipo de variable:',type(u))\n",
    "\n",
    "import matplotlib.pyplot as plt\n",
    "\n",
    "#Extraigo los datos de la solucion u.\n",
    "uh = u.compute_vertex_values(mesh) \n",
    "\n",
    "print('Cantidad de celdas:',nx)\n",
    "print('Cantidad de vertices:',len(uh))\n",
    "\n",
    "fig, axs = plt.subplots(1,1)\n",
    "\n",
    "import numpy as np\n",
    "\n",
    "xu = np.linspace(2.0, 8.0, len(uh),endpoint = True)\n",
    "\n",
    "axs.plot(xu,uh,'ro',markersize=5)\n",
    "\n",
    "plt.show()\n",
    "\n"
   ]
  },
  {
   "cell_type": "code",
   "execution_count": null,
   "metadata": {},
   "outputs": [],
   "source": []
  }
 ],
 "metadata": {
  "kernelspec": {
   "display_name": "Python 3",
   "language": "python",
   "name": "python3"
  },
  "language_info": {
   "codemirror_mode": {
    "name": "ipython",
    "version": 3
   },
   "file_extension": ".py",
   "mimetype": "text/x-python",
   "name": "python",
   "nbconvert_exporter": "python",
   "pygments_lexer": "ipython3",
   "version": "3.5.2"
  }
 },
 "nbformat": 4,
 "nbformat_minor": 2
}
