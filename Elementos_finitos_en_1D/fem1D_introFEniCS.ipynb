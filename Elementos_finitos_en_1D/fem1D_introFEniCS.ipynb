{
 "cells": [
  {
   "cell_type": "markdown",
   "metadata": {},
   "source": [
    "# FEniCS en 1D\n",
    "\n",
    "Nota: a este documento no lo podremos ejecutar de manera dinámica con Binder, sólo lo podrán correr si tienen instalado:\n",
    "\n",
    "- Python 3.5 o más nuevo instalado.\n",
    "- [Jupyter Notebook](https://jupyter.readthedocs.io/en/latest/install.html).\n",
    "- [FEniCS](https://fenicsproject.org/).\n"
   ]
  },
  {
   "cell_type": "markdown",
   "metadata": {},
   "source": [
    "## Ecuación de Poisson en 1D \n",
    "\n",
    "En el [tutorial introductorio de FEM en 1D](https://nbviewer.jupyter.org/github/rirastorza/Intro2FEM/blob/master/Elementos_finitos_en_1D/fem1D.ipynb) utilizamos un ejemplo para resolver la ecuación de Poisson con condiciones de borde de Dirichlet en un intervalo entre 0 y 1. Para esto programamos el método hasta obtener la matriz de rigidez y el vector de cargas, y finalmente resolvimos el sistema lineal. En este tutorial resolveremos el mismo problema pero utilizando FEniCS. De esta manera, aprenderemos a escribir un script de FEniCS con algunas de sus herramientas.\n",
    "\n",
    "Recordemos la ecuación:\n",
    "\n",
    "$$ \\left \\{ \\begin{array}{l} -u^{''}=f \\ \\ \\text{ para } \\ \\ x\\in I=\\left(0,1 \\right) \\\\   u(0)=u(1)=0 \\end{array} \\right . \\tag{1}$$\n",
    "\n",
    "Continuaremos resolviendo el caso particular de $f=1$. Obtuvimos la formulación variacional y llegamos a:\n",
    "\n",
    "$$\\int_{0}^{1}v^{'}u^{'} \\ \\ dx = \\int_{0}^{1} fv \\ \\ dx  \\ \\ \\ \\ \\forall \\ \\ v \\ \\ \\in V_{0}.\\tag{2}$$\n",
    "\n",
    "El dominio donde vive $u$ también es $V_{0}$.\n",
    "\n",
    "## Script de FEniCS\n",
    "\n",
    "Comencemos entonces con el script de FEniCS. Primero debemos importar FEniCS, luego definimos el número de segmentos en que queremos dividir el intervalo $I$. Luego utilizamos la función [IntervaMesh](https://fenicsproject.org/docs/dolfin/1.5.0/python/programmers-reference/cpp/mesh/IntervalMesh.html) para crear una malla uniforme en una dimensión."
   ]
  },
  {
   "cell_type": "code",
   "execution_count": 10,
   "metadata": {},
   "outputs": [],
   "source": [
    "from __future__ import print_function\n",
    "from fenics import *\n",
    "\n",
    "nx = 5 #numero de segmentos\n",
    "minx, maxx = 0.0, 1.0 #límites del intervalo\n",
    "mesh = IntervalMesh(nx, minx, maxx)#malla en 1D "
   ]
  },
  {
   "cell_type": "markdown",
   "metadata": {},
   "source": [
    "En mesh se guarda la malla generada. Existen funciones similares a IntervalMesh para generar mallas en 2D (por ejemplo: [UnitSquareMesh](https://fenicsproject.org/docs/dolfin/1.6.0/python/programmers-reference/cpp/mesh/UnitSquareMesh.html)). Estas funciones pertenecen al conjunto generadores built-in de mallas de FEniCS, las utilizaremos para ejemplos simples. Para ejemplos un poco más complejos, generaremos mallas con Gmsh.\n",
    "\n",
    "Siguiendo con el script, lo que debemos hacer es crear el espacio donde vivirán tanto las solución como la función de prueba ($V_{0}$). Esto lo hacemos de la siguiente manera:"
   ]
  },
  {
   "cell_type": "code",
   "execution_count": 11,
   "metadata": {},
   "outputs": [],
   "source": [
    "V0 = FunctionSpace(mesh, 'CG',1)"
   ]
  },
  {
   "cell_type": "markdown",
   "metadata": {},
   "source": [
    "notemos que como argumento tiene la malla, en 'CG' viene de  Continuous Galerkin y significa que son los elementos continuos de Lagrange de orden 1 (las funciones sombrero del [tutorial anterior](https://nbviewer.jupyter.org/github/rirastorza/Intro2FEM/blob/master/Elementos_finitos_en_1D/fem1D.ipynb)). Algo de información sobre estas funciones [aquí](http://femwiki.wikidot.com/elements:lagrange-elements). Algo de información de la función FunctionSpace [aquí](https://fenicsproject.org/docs/dolfin/1.5.0/python/programmers-reference/functions/functionspace/FunctionSpace.html).\n",
    "\n",
    "Para las condiciones de borde de Dirichlet tenemos que definir unas funciones que al llamarlas nos den TRUE cuando nos encontremos en el borde y FALSE en caso contrario. Para otro tipo de condiciones de borde (Neumann o Robin) lo debemos hacer de una forma diferente que lo veremos más adelante."
   ]
  },
  {
   "cell_type": "code",
   "execution_count": 12,
   "metadata": {},
   "outputs": [],
   "source": [
    "def borde_D(x, on_boundary): #retorna un booleano\n",
    "    tol = 1.E-14\n",
    "    return on_boundary and near(x[0],1.0, tol)\n",
    "\n",
    "def borde_I(x, on_boundary):\n",
    "    tol = 1.E-14\n",
    "    return on_boundary and near(x[0], 0.0, tol)"
   ]
  },
  {
   "cell_type": "markdown",
   "metadata": {},
   "source": [
    "La función near devuelve verdadero cuando x está cerca de 1.0 (para borde_D) con una tolerancia definida en la variable tol. Luego con la función DirichletBC le indicamos cuanto debe valer."
   ]
  },
  {
   "cell_type": "code",
   "execution_count": 13,
   "metadata": {},
   "outputs": [],
   "source": [
    "bc_der = DirichletBC(V0, Constant(0.0), borde_D)\n",
    "bc_iz = DirichletBC(V0, Constant(0.0), borde_I)\n",
    "bc = [bc_iz, bc_der]#Las guardamos en una lista!"
   ]
  },
  {
   "cell_type": "markdown",
   "metadata": {},
   "source": [
    "Es importante destacar que podemos ir acumulandolas en una lista.\n",
    "\n",
    "Ahora comenzaremos con la función variacional. Primero, definiremos la **función de prueba** (test) y la **función ensayo** (trial). "
   ]
  },
  {
   "cell_type": "code",
   "execution_count": 14,
   "metadata": {},
   "outputs": [],
   "source": [
    "u = TrialFunction(V0)\n",
    "v = TestFunction(V0)\n",
    "f = Constant(1.0)"
   ]
  },
  {
   "cell_type": "markdown",
   "metadata": {},
   "source": [
    "FEniCS utiliza la denominada notación canónica para problemas variacionales, esto es una manera simple de escribir Ec. (2). Denominando:\n",
    "\n",
    "$$ \\begin{array}{l}a\\left( u,v\\right) = \\int v^{'}u^{'} \\ \\ dx   \\\\ L \\left(v \\right) = \\int fv \\ \\ dx   \\end{array} \\tag{3}$$\n",
    "\n",
    "aquí, $a\\left(u,v\\right)$ es la forma bilineal (depende de $u$ y $v$) y la forma lineal (depende solo de $v$). En FEniCS esto se codifica casi literalmente:"
   ]
  },
  {
   "cell_type": "code",
   "execution_count": 15,
   "metadata": {},
   "outputs": [],
   "source": [
    "a = dot(grad(u), grad(v))*dx\n",
    "L = f*v*dx"
   ]
  },
  {
   "cell_type": "markdown",
   "metadata": {},
   "source": [
    "Luego, debemos indicarle a FEniCS que ahora $u$ será una función y que deberá resolver y guardarla en esa variable."
   ]
  },
  {
   "cell_type": "code",
   "execution_count": 16,
   "metadata": {},
   "outputs": [],
   "source": [
    "u = Function(V0)\n",
    "solve(a == L, u, bc)"
   ]
  },
  {
   "cell_type": "markdown",
   "metadata": {},
   "source": [
    "A la función solve le pasamos como argumento la formulación débil (variacional), la función $u$ donde queremos guardar la solución, y las condiciones de borde (Dirichlet) del problema. Podemos ver que tipo de variable es $u$."
   ]
  },
  {
   "cell_type": "code",
   "execution_count": 17,
   "metadata": {},
   "outputs": [
    {
     "name": "stdout",
     "output_type": "stream",
     "text": [
      "Tipo de variable: <class 'dolfin.function.function.Function'>\n"
     ]
    }
   ],
   "source": [
    "print('Tipo de variable:',type(u))"
   ]
  },
  {
   "cell_type": "markdown",
   "metadata": {},
   "source": [
    "El problema ya está resuelto. En la variable $u$ tenemos la solución por elementos finitos.\n",
    "\n",
    "## Graficamos la solución y algunas cosas más\n",
    "\n",
    "Para esto debemos utilizar matplotlib."
   ]
  },
  {
   "cell_type": "code",
   "execution_count": 18,
   "metadata": {},
   "outputs": [],
   "source": [
    "import matplotlib.pyplot as plt"
   ]
  },
  {
   "cell_type": "markdown",
   "metadata": {},
   "source": [
    "Para obtener la solución en los nodos de la malla utilizamos la función compute_vertex_value."
   ]
  },
  {
   "cell_type": "code",
   "execution_count": 11,
   "metadata": {},
   "outputs": [
    {
     "name": "stdout",
     "output_type": "stream",
     "text": [
      "solución en 0.134543:  0.0538172\n",
      "Cantidad de celdas: 5\n",
      "Cantidad de vertices: 6\n"
     ]
    }
   ],
   "source": [
    "print('solución en 0.134543: ',u(0.134543))\n",
    "uh = u.compute_vertex_values(mesh) \n",
    "print('Cantidad de celdas:',nx)\n",
    "print('Cantidad de vertices:',len(uh))"
   ]
  },
  {
   "cell_type": "markdown",
   "metadata": {},
   "source": [
    "Comparamos con la solución analítica:"
   ]
  },
  {
   "cell_type": "code",
   "execution_count": 14,
   "metadata": {},
   "outputs": [
    {
     "data": {
      "image/png": "[encoded data removed]",
      "text/plain": [
       "<Figure size 432x288 with 1 Axes>"
      ]
     },
     "metadata": {
      "needs_background": "light"
     },
     "output_type": "display_data"
    }
   ],
   "source": [
    "fig, axs = plt.subplots(1,1)\n",
    "import numpy as np\n",
    "xu = np.linspace(0.0, 1.0, len(uh),endpoint = True)\n",
    "xe = np.arange(0.0,1.0,0.001)\n",
    "ue = -0.5*xe*(xe-1.)\n",
    "axs.plot(xu,uh,'ro',markersize=10)\n",
    "axs.plot(0.134543,u(0.134543),'bo',markersize=10)\n",
    "axs.plot(xe,ue,'b');\n",
    "plt.show();"
   ]
  },
  {
   "cell_type": "markdown",
   "metadata": {},
   "source": [
    "Para estimar el error, podemos utilizar la norma L2 y de esta manera computar el error que cometemos también entre los nodos."
   ]
  },
  {
   "cell_type": "code",
   "execution_count": 20,
   "metadata": {},
   "outputs": [
    {
     "name": "stdout",
     "output_type": "stream",
     "text": [
      "WARNING: user expression has not supplied value_shape method or an element. Assuming scalar element.\n",
      "Error en L2: 0.0036514837167011004\n"
     ]
    }
   ],
   "source": [
    "class Resultado(UserExpression):\n",
    "    def eval(self, values, x):\n",
    "        values[0] = -0.5*x[0]*(x[0]-1.0)\n",
    "\n",
    "u_D = Resultado(degree=1)\n",
    "u_De = u_D.compute_vertex_values(mesh)\n",
    "error_L2 = errornorm(u_D, u, 'L2')\n",
    "print('Error en L2:',error_L2)"
   ]
  }
 ],
 "metadata": {
  "kernelspec": {
   "display_name": "Python 3",
   "language": "python",
   "name": "python3"
  },
  "language_info": {
   "codemirror_mode": {
    "name": "ipython",
    "version": 3
   },
   "file_extension": ".py",
   "mimetype": "text/x-python",
   "name": "python",
   "nbconvert_exporter": "python",
   "pygments_lexer": "ipython3",
   "version": "3.5.2"
  }
 },
 "nbformat": 4,
 "nbformat_minor": 2
}
