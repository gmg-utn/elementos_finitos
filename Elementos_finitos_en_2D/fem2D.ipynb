{
 "cells": [
  {
   "cell_type": "markdown",
   "metadata": {},
   "source": [
    "# MEF en 2D\n",
    "\n",
    "Nota: a este documento no lo podremos ejecutar de manera dinámica con Binder, sólo lo podrán correr si tienen instalado:\n",
    "\n",
    "- Python 3.5 o más nuevo instalado.\n",
    "- [Jupyter Notebook](https://jupyter.readthedocs.io/en/latest/install.html).\n",
    "- [FEniCS](https://fenicsproject.org/).\n",
    "\n",
    "### Referencias\n",
    "- Mark S. Gockenbach, [Understanding and Implementing the Finite Element Method](https://my.siam.org/Store/Product/viewproduct/?ProductId=997) (2006), Siam."
   ]
  },
  {
   "cell_type": "markdown",
   "metadata": {},
   "source": [
    "## Introducción y definiciones\n",
    "\n",
    "Hemos estudiado la [**la ecuación de Poisson**](https://es.wikipedia.org/wiki/Ecuaci%C3%B3n_de_Poisson) para introducir la solución por el Método de Elementos Finitos (MEF) en una dimensión. En este tutorial continuaremos con este ejemplo, poniendo especial atención a las cosas que se modifican en dos dimensiones.\n",
    "\n",
    "$$ \\left \\{ \\begin{array}{l} - \\triangle u = f \\ \\ \\text{ en } \\ \\ \\Omega \\\\   u=0  \\ \\ \\text{en} \\ \\ \\partial\\Omega_{1} \\ \\ \\text{(Dirichlet)}\\\\   \\frac{\\partial u}{\\partial n}=h  \\ \\ \\text{en} \\ \\ \\partial\\Omega_{2} \\ \\ \\text{(Neumann)}  \\end{array} \\right . \\tag{1}$$\n",
    "\n",
    "### Definiciones\n",
    "\n",
    "En el caso que vamos a estudiar $u$ es un **campo escalar** en el plano que depende de $x$ e $y$. Ejemplos: en el problema térmico sería la temperatura, en el problema mecánico los desplazamientos (aplicando un modelo de [elasticidad plana](https://es.wikipedia.org/wiki/Elasticidad_plana)).\n",
    "\n",
    "#### La geometría la denotamos de la siguiente manera:\n",
    "\n",
    "- $\\Omega : $ Dominio en $\\mathbb{R}^{2}$\n",
    "- $\\partial\\Omega : $ Contorno o borde.\n",
    "- $\\overrightarrow{n} : $ vector unitario normal.\n",
    "\n",
    "[<img src=\"figura1.png\" width=\"250\"/>](figura1.png)\n",
    "\n",
    "#### Algunas cosas de cálculo vectorial\n",
    "\n",
    "- El operador de Laplace o **Laplaciano** ($\\triangle$) aplicado a $u$ queda:\n",
    "\n",
    "$$\\triangle u = \\frac{\\partial^{2} u}{\\partial x^{2}}+\\frac{\\partial^{2} u}{\\partial y^{2}}$$\n",
    "\n",
    "Note que es el resultado del operador Laplaciano es un **escalar**.\n",
    "\n",
    "- El **gradiente** de $u$ lo definimos como:\n",
    "\n",
    "$$ \\nabla u \\left(x,y \\right) = \\begin{bmatrix} \\frac{\\partial u}{\\partial x} \\\\ \\frac{\\partial u}{\\partial y} \\end{bmatrix} \\tag{2}$$\n",
    "\n",
    "Note que el gradiente es un **campo vectorial**.\n",
    "\n",
    "- El **vector normal** $\\overrightarrow{n}\\left(x,y\\right)$ apunta hacia afuera del borde $\\partial \\Omega$ en el punto $\\left(x,y\\right)$.\n",
    "\n",
    "- En el caso de la condición de borde de Neumann se utiliza **la derivada direccional**, se denota $\\frac{\\partial u}{\\partial n}$ y se define de la siguiente manera:\n",
    "\n",
    "$$\\frac{\\partial u}{\\partial n} = \\nabla u \\cdot \\overrightarrow{n}\\tag{3}$$\n",
    "\n",
    "esto es, el producto escalar entre el gradiente de $u$ y el versor normal. Conceptualmente me dice cómo cambia la función $u$ en la dirección dada por $\\overrightarrow{n}$ (se generaliza el concepto de derivadas parciales porque éstas dan los cambios respecto de las direcciones $x$ e $y$). En la definición se ve que es la proyección del gradiente en la dirección normal.\n",
    "\n",
    "- Como en el caso del gradiente que vimos arriba, en esta unidad trataremos con campos vectoriales. Otro ejemplo puede ser la tasa de flujo de calor ($\\overrightarrow{q}=-k\\nabla T$), que es un campo vectorial definido para cada posición $\\left(x,y\\right)$. Para un campo vectorial $\\overrightarrow{F}$, definido como:\n",
    "\n",
    "$$\\overrightarrow{F} = \\begin{bmatrix} F_{1}\\left(x,y\\right) \\\\ F_{2}\\left(x,y\\right) \\end{bmatrix},$$\n",
    "\n",
    "el **operador divergencia** ($\\nabla \\cdot$) aplicado a $\\overrightarrow{F}$ se define como: \n",
    "\n",
    "$$\\nabla \\cdot \\overrightarrow{F} = \\frac{\\partial F_{1}}{\\partial x}+\\frac{\\partial F_{2}}{\\partial y}.$$\n",
    "\n",
    "Note que devuelve un escalar."
   ]
  },
  {
   "cell_type": "markdown",
   "metadata": {},
   "source": [
    "## Teorema de la divergencia e identidad de Green\n",
    "\n",
    "Recordemos que para obtener la formulación variacional que podamos resolver con MEF debíamos bajar el órden de la derivada. Para esto, se integró por partes:\n",
    "\n",
    "$$\\int_{x_{1}}^{x_{2}}f_{1}f_{2}^{'}dx = \\left. f_{1}f_{2} \\ \\ \\right |_{x_{1}}^{x_{2}}- \\int_{x_{1}}^{x_{2}}f_{1}^{'}f_{2}dx$$\n",
    "\n",
    "llamando $f_{1}=v$ y $f_{2}=u^{'}$. En dos dimensiones esto es similar y debemos aplicar el **teorema de la divergencia** al campo vectorial como comentaremos a continuación.\n",
    "\n",
    "### Teorema de la divergencia\n",
    "\n",
    "Me relaciona dos cosas, lo que ocurre dentro de la geometría (en $\\Omega$) con lo que sale (o entra) en los bordes de la misma ($\\partial \\Omega$). Si el dominio $\\Omega$ en $\\mathbb{R}^{2}$ tiene bordes suaves o suaves a trozo, el teorema de la divergencia establece el siguiente resultado:\n",
    "\n",
    "$$\\int_{\\Omega} \\nabla \\cdot \\overrightarrow{F} da = \\int_{\\partial \\Omega} \\overrightarrow{F} \\cdot \\overrightarrow{n} ds \\tag{4}$$\n",
    "\n",
    "En esta ecuación $da$ es un diferencial de área (integral doble) y $ds$ es un diferencial de arco (notemos que el término de la derecha es una integral de línea). \n",
    "\n",
    "Trataremos de reescribir este resultado para que nos sirva para nuestro propósito. Si elegimos:\n",
    "\n",
    "$$\\overrightarrow{F} = \\begin{bmatrix} f\\left(x,y\\right) \\\\ 0 \\end{bmatrix},$$\n",
    "\n",
    "como el vector normal es: \n",
    "\n",
    "$$\\overrightarrow{n} = \\begin{bmatrix} n_{1} \\\\ n_{2} \\end{bmatrix},$$\n",
    "\n",
    "y aplicamos el teorema, llegamos a:\n",
    "\n",
    "$$\\int_{\\Omega} \\frac{\\partial f}{\\partial x} da = \\int_{\\partial \\Omega} f \\ n_{1} \\ ds \\tag{5}.$$\n",
    "\n",
    "Por otro lado, si ahora elegimos:\n",
    "\n",
    "$$\\overrightarrow{F} = \\begin{bmatrix} 0 \\\\ f\\left(x,y\\right) \\end{bmatrix},$$\n",
    "\n",
    "y aplicamos el teorema, llegamos a:\n",
    "\n",
    "$$\\int_{\\Omega} \\frac{\\partial f}{\\partial y} da = \\int_{\\partial \\Omega} f \\ n_{2} \\ ds \\tag{6}.$$\n",
    "\n",
    "Ahora hacemos lo mismo pero tomando un producto de funciones $f\\left(x,y\\right) = h\\left(x,y\\right)g\\left(x,y\\right)$. Recordando la derivada del producto: $\\frac{\\partial f}{\\partial x}= \\frac{\\partial h}{\\partial x}g+h\\frac{\\partial g}{\\partial x}$ (lo mismo para $y$). Reemplazamos en las Ecs. (5) y (6) y tenemos:\n",
    "\n",
    "$$\\int_{\\Omega}  \\frac{\\partial h}{\\partial x}g+h\\frac{\\partial g}{\\partial x} da = \\int_{\\partial \\Omega} hg \\ n_{1} \\ ds \\Rightarrow \\int_{\\Omega}  \\frac{\\partial h}{\\partial x}g da = \\int_{\\partial \\Omega} hg \\ n_{1} \\ ds - \\int_{\\Omega} h\\frac{\\partial g}{\\partial x} da \\tag{7}$$\n",
    "\n",
    "$$\\int_{\\Omega} \\frac{\\partial h}{\\partial y}g+h\\frac{\\partial g}{\\partial y} da = \\int_{\\partial \\Omega} hg \\ n_{2} \\ ds\\Rightarrow \\int_{\\Omega} h\\frac{\\partial g}{\\partial y} da = \\int_{\\partial \\Omega} hg \\ n_{2} \\ ds - \\int_{\\Omega} \\frac{\\partial h}{\\partial y}g da \\tag{8}.$$\n",
    "\n",
    "Supongamos que $h=w_{i}$ es una de las componentes de un campo vectorial $\\overrightarrow{W}$.\n",
    "\n",
    "$$\\overrightarrow{W} = \\begin{bmatrix}w_{1} \\\\ w_{2} \\end{bmatrix}$$\n",
    "\n",
    "y $g = v $ (nuestra función de prueba). Reemplazamos en las Ec. (7):\n",
    "\n",
    "$$\\int_{\\Omega}  \\frac{\\partial w_{1}}{\\partial x}v da = \\int_{\\partial \\Omega} w_{1}v \\ n_{1} \\ ds - \\int_{\\Omega} w_{1}\\frac{\\partial v}{\\partial x} da,$$\n",
    "\n",
    "ahora en Ec. (8):\n",
    "\n",
    "$$\\int_{\\Omega} w_{2}\\frac{\\partial v}{\\partial y} da = \\int_{\\partial \\Omega} w_{2}v \\ n_{2} \\ ds - \\int_{\\Omega} \\frac{\\partial w_{2}}{\\partial y}v da,$$\n",
    "\n",
    "y las sumamos:\n",
    "\n",
    "$$\\int_{\\Omega}  \\frac{\\partial w_{1}}{\\partial x}v da +\\int_{\\Omega} w_{2}\\frac{\\partial v}{\\partial y} da  = \\int_{\\partial \\Omega} w_{1}v \\ n_{1} \\ ds - \\int_{\\Omega} w_{1}\\frac{\\partial v}{\\partial x} da+\\int_{\\partial \\Omega} w_{2}v \\ n_{2} \\ ds - \\int_{\\Omega} \\frac{\\partial w_{2}}{\\partial y}v da$$\n",
    "\n",
    "Las reordenamos:\n",
    "\n",
    "$$\\int_{\\Omega}  \\frac{\\partial w_{1}}{\\partial x}v da + \\int_{\\Omega} \\frac{\\partial w_{2}}{\\partial y}v da = - \\int_{\\Omega} w_{1}\\frac{\\partial v}{\\partial x}da -\\int_{\\Omega} w_{2}\\frac{\\partial v}{\\partial y} da\n",
    "  +\\int_{\\partial \\Omega} w_{1}v \\ n_{1} \\ ds+\\int_{\\partial \\Omega} w_{2}v \\ n_{2} \\ ds, $$\n",
    "\n",
    "y lo reescribimos de forma vectorial:\n",
    "\n",
    "$$\\int_{\\Omega} \\left(\\nabla \\cdot \\overrightarrow{W} \\right)v da =- \\int_{\\Omega}\\overrightarrow{W} \\cdot \\nabla v  da + \\int_{\\partial \\Omega} v \\overrightarrow{W}\\cdot \\overrightarrow{n}  ds.$$\n",
    "\n",
    "Ahora cambiamos de nuevo, llamamos $\\overrightarrow{W} = -\\nabla u$ y nos queda:\n",
    "\n",
    "$$\\int_{\\Omega} \\left(\\nabla \\cdot \\left(-\\nabla u\\right) \\right)v da =- \\int_{\\Omega}\\left( -\\nabla u\\right) \\cdot \\nabla v  da + \\int_{\\partial \\Omega} v \\left( -\\nabla u\\right)\\cdot \\overrightarrow{n}  ds.$$\n",
    "\n",
    "Si notamos que la divergencia del gradiente es el laplaciano, me queda:\n",
    "\n",
    "$$-\\int_{\\Omega}  \\triangle u \\ v da = \\int_{\\Omega}\\nabla u \\ \\cdot \\nabla v  da - \\int_{\\partial \\Omega} v \\underbrace{\\nabla u \\cdot \\overrightarrow{n}}_{\\text{derivada direccional}}  ds. \\tag{9}$$\n",
    "\n",
    "Hemos llegado a la ecuación (se denomina primer [identidad de Green](https://es.wikipedia.org/wiki/Identidades_de_Green)) que nos sirve para bajar el orden de la derivada y vincular las condiciones de borde en la **formulación variacional**."
   ]
  },
  {
   "cell_type": "markdown",
   "metadata": {},
   "source": [
    "## Ejemplo de campo escalar térmico en una placa\n",
    "\n",
    "En lo que sigue, implementaremos la [ecuación de Laplace](https://es.wikipedia.org/wiki/Ecuaci%C3%B3n_de_Laplace) en un dominio cuadrado ($\\Omega$) con condiciones de borde Dirichlet cero en todos lados ($\\partial \\Omega_{1}$) menos a la derecha que vale 5 ($\\partial \\Omega_{2}$).\n",
    "\n",
    "$$ \\left \\{ \\begin{array}{l} - \\triangle u = 0 \\ \\ \\text{ en } \\ \\ \\Omega \\\\   u=0  \\ \\ \\text{en} \\ \\ \\partial\\Omega_{1} \\ \\ \\text{(Dirichlet)}\\\\   u=5  \\ \\ \\text{en} \\ \\ \\partial\\Omega_{2} \\ \\ \\text{(Dirichlet)}  \\end{array} \\right . \\tag{10}$$\n",
    "\n",
    "### Formulación variacional\n",
    "\n",
    "Hacemos lo mismo de siempre, multiplicamos por la función de prueba $v$ e integramos.\n",
    "\n",
    "$$\\int_{\\Omega}- \\triangle u v da = 0, $$\n",
    "\n",
    "aplicamos la Ec. (9) y se obtiene:\n",
    "\n",
    "$$\\int_{\\Omega}- \\triangle u v da=\\int_{\\Omega}\\nabla u \\ \\cdot \\nabla v  da - \\int_{\\partial \\Omega} v \\nabla u \\cdot \\overrightarrow{n}  ds. $$\n",
    "\n",
    "Por lo tanto nos queda:\n",
    "\n",
    "$$\\int_{\\Omega}\\nabla u \\ \\cdot \\nabla v  da - \\int_{\\partial \\Omega} v \\nabla u \\cdot \\overrightarrow{n}  ds=0 .$$\n",
    "\n",
    "Elegimos convenientemente $v$ de tal forma que se anule en los bordes $\\partial \\Omega_{1}$ y valga 5 en $\\partial \\Omega_{2}$ y nos queda:\n",
    "\n",
    "$$\\int_{\\Omega}\\nabla u \\ \\cdot \\nabla v  da =\\int_{\\Omega} f \\ v \\ da. \\tag{11}$$\n",
    "\n",
    "esto vale para todo $v$ perteneciente al espacio de funciones $V$.\n",
    "\n",
    "Tendriamos que recorrer los mismos pasos que hicimos con el problema en 1D. Nosotros lo resolveremos utilizando FEniCS.\n",
    "\n",
    "### Algunas conclusiones\n",
    "\n",
    "- Si encontramos la solución de la Ec. (11), no implica que sea solución de la Ec. (10), pero si lo es de ésta última también lo será de la primera. Por eso a la Ec. (11) se le dice **formulación débil** y a la (10) **fuerte**.\n",
    "- Ahora deberíamos construir funciones sombrero ($\\varphi_{i}$), pero en dos dimensiones. No lo haremos, pasaremos directo a FEniCS.\n"
   ]
  },
  {
   "cell_type": "markdown",
   "metadata": {},
   "source": [
    "### Código\n",
    "\n",
    "Utilizamos una malla nativa con la función *UnitSquareMesh* (genera una malla cuadrada de lado 1), se le pasan la cantidad de nodos deseados. Creamos también las funciones para definir los bordes (de manera similar a como hemos venido trabajando)."
   ]
  },
  {
   "cell_type": "code",
   "execution_count": 1,
   "metadata": {},
   "outputs": [],
   "source": [
    "from fenics import *\n",
    "mesh = UnitSquareMesh(5, 5)\n",
    "V = FunctionSpace(mesh, 'CG',1)#Continuous Lagrange elements\n",
    "\n",
    "def borde_D(x, on_boundary): \n",
    "    tol = 1.E-14\n",
    "    return on_boundary and near(x[0], 1., tol)\n",
    "\n",
    "bc_der=DirichletBC(V, Constant(5.0), borde_D)\n",
    "\n",
    "def borde_I(x, on_boundary):\n",
    "    tol = 1.E-14\n",
    "    return on_boundary and near(x[0], 0., tol)\n",
    "\n",
    "bc_iz = DirichletBC(V, Constant(0.0), borde_I)\n",
    "\n",
    "def borde_AR(x, on_boundary):\n",
    "    tol = 1.E-14\n",
    "    return on_boundary and near(x[1], 0., tol)\n",
    "\n",
    "bc_arriba = DirichletBC(V, Constant(0.0), borde_AR)\n",
    "\n",
    "def borde_AB(x, on_boundary):\n",
    "    tol = 1.E-14\n",
    "    return on_boundary and near(x[1], 1., tol)\n",
    "\n",
    "bc_abajo = DirichletBC(V, Constant(0.0), borde_AB)\n",
    "\n",
    "bc = [bc_iz, bc_der, bc_arriba, bc_abajo]"
   ]
  },
  {
   "cell_type": "markdown",
   "metadata": {},
   "source": [
    "Para definir la formulación variacional lo haremos de una forma ligeramente distinta, para mostrar las funciones de FEniCS: *lhs* y *rhs*. FEniCS detecta solo la forma bilineal y lineal."
   ]
  },
  {
   "cell_type": "code",
   "execution_count": 2,
   "metadata": {},
   "outputs": [],
   "source": [
    "u = TrialFunction(V) \n",
    "v = TestFunction(V)\n",
    "f = Constant(0.0)\n",
    "\n",
    "F = f*v*dx-dot(grad(u), grad(v))*dx\n",
    "a = lhs(F)\n",
    "L = rhs(F) "
   ]
  },
  {
   "cell_type": "markdown",
   "metadata": {},
   "source": [
    "Podemos también ver la matriz de rigidéz y el vector de carga:"
   ]
  },
  {
   "cell_type": "code",
   "execution_count": 3,
   "metadata": {},
   "outputs": [
    {
     "name": "stdout",
     "output_type": "stream",
     "text": [
      "Calling FFC just-in-time (JIT) compiler, this may take some time.\n",
      "Matriz de rigidéz:  [[-1.   0.5  0.5 ...,  0.   0.   0. ]\n",
      " [ 0.5 -2.   0.  ...,  0.   0.   0. ]\n",
      " [ 0.5  0.  -2.  ...,  0.   0.   0. ]\n",
      " ..., \n",
      " [ 0.   0.   0.  ..., -2.   0.   0.5]\n",
      " [ 0.   0.   0.  ...,  0.  -2.   0.5]\n",
      " [ 0.   0.   0.  ...,  0.5  0.5 -1. ]]\n",
      "Vector de carga:  [ 0.  0.  0.  0.  0.  0.  0.  0.  0.  0.  0.  0.  0.  0.  0.  0.  0.  0.\n",
      "  0.  0.  0.  0.  0.  0.  0.  0.  0.  0.  0.  0.  0.  0.  0.  0.  0.  0.]\n"
     ]
    }
   ],
   "source": [
    "A = assemble(a)\n",
    "A_array = A.array()\n",
    "print('Matriz de rigidéz: ',A_array)\n",
    "b = assemble(L)\n",
    "print('Vector de carga: ',b.get_local())"
   ]
  },
  {
   "cell_type": "markdown",
   "metadata": {},
   "source": [
    "Ahora resuelvo y grafico. Vamos a dibujar con paraview."
   ]
  },
  {
   "cell_type": "code",
   "execution_count": 4,
   "metadata": {},
   "outputs": [
    {
     "name": "stdout",
     "output_type": "stream",
     "text": [
      "Calling FFC just-in-time (JIT) compiler, this may take some time.\n"
     ]
    }
   ],
   "source": [
    "#Resuelvo\n",
    "u = Function(V)\n",
    "solve(a == L, u, bc)\n",
    "vtkfile_T = File('temperatura.pvd')\n",
    "vtkfile_T << u"
   ]
  },
  {
   "cell_type": "markdown",
   "metadata": {},
   "source": [
    "También se puede calcular el gradiente, pero tengamos en cuenta que esto será un campo vectorial."
   ]
  },
  {
   "cell_type": "code",
   "execution_count": null,
   "metadata": {},
   "outputs": [],
   "source": [
    "V = u.function_space() #Tomo el espacio donde vive u\n",
    "mesh = V.mesh()#su malla tambien\n",
    "degree = V.ufl_element().degree() #el elemento finito\n",
    "W = VectorFunctionSpace(mesh, 'CG', degree) #y creo un espacio con los mismos elementos de u\n",
    "\n",
    "grad_u = project(grad(u), W) #Realizo la proyeccion\n",
    "k = Constant(1.0)\n",
    "flux_u = project(-k*grad(u), W)\n",
    "\n",
    "vtkfile_Q = File('calor.pvd')\n",
    "vtkfile_Q << flux_u\n",
    "\n",
    "import matplotlib.pyplot as plt\n",
    "\n",
    "plt.figure(1)\n",
    "plot(flux_u)\n",
    "\n",
    "plt.figure(2)\n",
    "plot(u.root_node(),mode='warp')\n",
    "\n",
    "plt.figure(3)\n",
    "plot(mesh)\n",
    "\n",
    "plt.show()\n",
    "\n",
    "#Imprime el solver: en este caso PETSc built in LU solver\n",
    "print(parameters['linear_algebra_backend'])"
   ]
  },
  {
   "cell_type": "code",
   "execution_count": null,
   "metadata": {},
   "outputs": [],
   "source": []
  }
 ],
 "metadata": {
  "kernelspec": {
   "display_name": "Python 3",
   "language": "python",
   "name": "python3"
  },
  "language_info": {
   "codemirror_mode": {
    "name": "ipython",
    "version": 3
   },
   "file_extension": ".py",
   "mimetype": "text/x-python",
   "name": "python",
   "nbconvert_exporter": "python",
   "pygments_lexer": "ipython3",
   "version": "3.5.2"
  }
 },
 "nbformat": 4,
 "nbformat_minor": 2
}
