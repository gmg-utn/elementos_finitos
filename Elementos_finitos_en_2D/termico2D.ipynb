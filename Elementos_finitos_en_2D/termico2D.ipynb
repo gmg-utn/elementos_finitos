{
 "cells": [
  {
   "cell_type": "markdown",
   "metadata": {},
   "source": [
    "# Problema térmico en 2D\n",
    "\n",
    "En esta sección veremos algunos ejemplos para resolver el problema térmico en 2D en estado estacionario. Veremos el ejemplo en tres pasos: 1) generaremos la geometría y la malla con Gmsh y la importaremos a FEniCS, 2) luego resolveremos un caso del problema cilíndrico y lo compararemos con la solución teórica, y 3) resolveremos el problema no lineal cuando la conductividad térmica de las capas depende de la temperatura.\n",
    "\n",
    "## Geometría y malla con Gmsh \n",
    "\n",
    "La geometría que deseamos resolver es sencilla, imaginemos una tubería lo suficientemente larga, con una temperatura interna ($T_{i}$), temperatura externa ($T_{e}$), y dos capas (por ejemplo: aislante y metal) con diferentes conductividades térmicas (ver la figura).\n",
    "\n",
    "[<img src=\"figura2.png\" width=\"200\"/>](figura2.png)\n",
    "\n",
    "Esto lo podemos **desarrollar en Gmsh** de forma parametrizada (en la carpeta [ejemplos](https://github.com/rirastorza/Intro2FEM/tree/master/ejemplos) ver el archivo: mallaejemplo11.geo). Aquí desglosaremos un poco este archivo (cuidado! no lo pueden correr directamente en jupyter notebook, ejecútelo aparte).\n",
    "\n",
    "Primero definimos los parámetros (los radios) y luego los puntos parametrizados."
   ]
  },
  {
   "cell_type": "code",
   "execution_count": null,
   "metadata": {},
   "outputs": [],
   "source": [
    "gridsize = 0.1e-3;\n",
    "r1 = 0.75e-3;\n",
    "r2 = 0.95e-3;\n",
    "R = 3.8e-3;\n",
    "Point(1) = {3.5e-3, 3.5e-3, 0, gridsize};\n",
    "Point(2) = {-r1+3.5e-3, 3.5e-3, 0, gridsize};\n",
    "Point(3) = {r1+3.5e-3, 3.5e-3, 0, gridsize};\n",
    "Point(4) = {-r2+3.5e-3, 3.5e-3, 0, gridsize};\n",
    "Point(5) = {r2+3.5e-3, 3.5e-3, 0, gridsize};\n",
    "Point(6) = {-R+3.5e-3, 3.5e-3, 0, gridsize};\n",
    "Point(7) = {R+3.5e-3, 3.5e-3, 0, gridsize};"
   ]
  },
  {
   "cell_type": "markdown",
   "metadata": {},
   "source": [
    "Luego las líneas circulares que unen esos puntos."
   ]
  },
  {
   "cell_type": "code",
   "execution_count": null,
   "metadata": {},
   "outputs": [],
   "source": [
    "Circle(1) = {2, 1, 3};\n",
    "Circle(2) = {3, 1, 2};\n",
    "Circle(3) = {4, 1, 5};\n",
    "Circle(4) = {5, 1, 4};\n",
    "Circle(5) = {6, 1, 7};\n",
    "Circle(6) = {7, 1, 6};"
   ]
  },
  {
   "cell_type": "markdown",
   "metadata": {},
   "source": [
    "Luego unimos esas líneas y creamos los lineloops para definir las superficies"
   ]
  },
  {
   "cell_type": "code",
   "execution_count": null,
   "metadata": {},
   "outputs": [],
   "source": [
    "Line Loop(7) = {1,2};\n",
    "Line Loop(8) = {3,4};\n",
    "Line Loop(9) = {5,6};\n",
    "Plane Surface(9) = {8,7};\n",
    "Plane Surface(10) = {9, 8};"
   ]
  },
  {
   "cell_type": "markdown",
   "metadata": {},
   "source": [
    "Finalmente, definimos (les ponemos un tag) las líneas y superficies físicas."
   ]
  },
  {
   "cell_type": "code",
   "execution_count": null,
   "metadata": {},
   "outputs": [],
   "source": [
    "Physical Line(10) = {1,2};\n",
    "Physical Line(20) = {5,6};\n",
    "Physical Surface(1) = {10};\n",
    "Physical Surface(2) = {9};"
   ]
  },
  {
   "cell_type": "markdown",
   "metadata": {},
   "source": [
    "Se puede colocar también la función: *Mesh.CharacteristicLengthMax = 0.2e-3;* que permite setear el tamaño máximo de la malla. Luego con la instrucción:"
   ]
  },
  {
   "cell_type": "code",
   "execution_count": 1,
   "metadata": {},
   "outputs": [
    {
     "name": "stdout",
     "output_type": "stream",
     "text": [
      "Info    : Running 'gmsh -2 mallaejemplo11.geo' [Gmsh 2.10.1, 1 node, max. 1 thread]\n",
      "Info    : Started on Mon Jul 13 16:36:15 2020\n",
      "Info    : Reading 'mallaejemplo11.geo'...\n",
      "Info    : Done reading 'mallaejemplo11.geo'\n",
      "Info    : Meshing 1D...\n",
      "Info    : Meshing curve 1 (Circle)\n",
      "Info    : Meshing curve 2 (Circle)\n",
      "Info    : Meshing curve 3 (Circle)\n",
      "Info    : Meshing curve 4 (Circle)\n",
      "Info    : Meshing curve 5 (Circle)\n",
      "Info    : Meshing curve 6 (Circle)\n",
      "Info    : Done meshing 1D (0 s)\n",
      "Info    : Meshing 2D...\n",
      "Info    : Meshing surface 9 (Plane, Delaunay)\n",
      "Info    : Meshing surface 10 (Plane, Delaunay)\n",
      "Info    : Done meshing 2D (0.156313 s)\n",
      "Info    : 1518 vertices 3071 elements\n",
      "Info    : Writing 'mallaejemplo11.msh'...\n",
      "Info    : Done writing 'mallaejemplo11.msh'\n",
      "Info    : Stopped on Mon Jul 13 16:36:15 2020\n"
     ]
    }
   ],
   "source": [
    "%%bash\n",
    "gmsh -2 mallaejemplo11.geo"
   ]
  },
  {
   "cell_type": "markdown",
   "metadata": {},
   "source": [
    "Como se ve, esto genera un archivo del mismo nombre pero con la extensión .msh. Lo debemos importar a FEniCS, una forma de hacerlo es transformando la malla a [formato xml](https://es.wikipedia.org/wiki/Extensible_Markup_Language). Para esto, los mismos desarrolladores de FEniCS tienen una función que permite hacer este procedimiento se denomina [*dolfin-convert*](https://people.sc.fsu.edu/~jburkardt/py_src/dolfin-convert/dolfin-convert.html). Ejecutando en consola:"
   ]
  },
  {
   "cell_type": "code",
   "execution_count": 2,
   "metadata": {},
   "outputs": [
    {
     "name": "stdout",
     "output_type": "stream",
     "text": [
      "Converting from Gmsh format (.msh, .gmsh) to DOLFIN XML format\n",
      "Expecting 1517 vertices\n",
      "Found all vertices\n",
      "Expecting 2890 cells\n",
      "Found all cells\n",
      "Conversion done\n"
     ]
    }
   ],
   "source": [
    "%%bash\n",
    "dolfin-convert mallaejemplo11.msh mallaejemplo11.xml"
   ]
  },
  {
   "cell_type": "markdown",
   "metadata": {},
   "source": [
    "Se generan tres archivos: mallaejemplo11.xml, mallaejemplo11_physical_region.xml, y mallaejemplo11_facet_region.xml, que contienen la malla, las marcas de las regiones físicas, y las marcas de las fronteras o bordes. En el script *ejemplo11.py* hemos escrito todas estas instrucciones utilizando la herramienta de Python *os* que toma el sistema operativo y ejecuta los comandos que se le pasan como string. Por ejemplo: la primer instrucción por consola *gmsh -2 mallaejemplo11.geo* la podemos escribir en un script de Python como: \n",
    "\n",
    "*string = \"gmsh -2 mallaejemplo11.geo\"*\n",
    "\n",
    "*os.system(string)*\n",
    "\n",
    "Luego, siguiendo con el script de Python, ya podemos importar la malla, subdominios, y bordes como sigue:"
   ]
  },
  {
   "cell_type": "code",
   "execution_count": 4,
   "metadata": {},
   "outputs": [],
   "source": [
    "from fenics import *\n",
    "\n",
    "mesh = Mesh(\"mallaejemplo11.xml\");\n",
    "subdomains = MeshFunction('size_t',mesh,\"mallaejemplo11_physical_region.xml\");\n",
    "boundary_markers = MeshFunction('size_t',mesh,\"mallaejemplo11_facet_region.xml\");"
   ]
  },
  {
   "cell_type": "markdown",
   "metadata": {},
   "source": [
    "## Resolución de cilindro de dos capas\n",
    "\n",
    "La **solución teórica** del problema presentado se puede ver como un problema de dos resistencias en serie (las dos capas). Como el problema tiene simetría cilíndrica entonces debemos resolver las ecuaciones de manera teórica en coordenadas cilíndricas. No repetiremos este cálculo aquí, simplemente tomaremos la solución del [libro de Kreith y otros](https://books.google.com.ar/books/about/Principles_of_Heat_Transfer.html?id=1hVSQBNvr74C&redir_esc=y) (ver página 82). En este caso, podemos encontrar una resistencia equivalente (por unidad de longitud) que tiene la forma:\n",
    "\n",
    "$$R = \\frac{ln(r_{2}/r_{1})}{2 \\pi k_{1}} + \\frac{ln(r_{3}/r_{2})}{2 \\pi k_{2}} \\tag{1}$$\n",
    "\n",
    "Por lo que la tasa de flujo de calor por unidad de longitud ($\\frac{q}{L}$) de la tubería será:\n",
    "\n",
    "$$\\frac{q}{L} = \\frac{\\Delta T}{R} \\tag{2}$$\n",
    "\n",
    "Tomando por ejemplo: $\\Delta T = T_{i}-T_{e} = 314,15-310,15 = 4,0  $ K y $k_{1}= 10,0$  W/mK y $k_{2} = 400,0 $ W/mK, se tiene como resultado: $\\frac{q}{L} = 927,24$  W/m.\n",
    "\n",
    "### Formulación variacional en FEniCS\n",
    "\n",
    "Comparemos este problema con nuestro script en FEniCS. Para esto debemos obtener la formulación variacional con condiciones de borde de Dirichlet, como ya lo hemos hecho antes.\n",
    "\n",
    "$$ \\left \\{ \\begin{array}{l} -\\left(\\nabla \\cdot k \\nabla T\\right)=f \\ \\ \\text{ para } \\ \\ x\\in \\Omega \\\\   T= 314,15 K  \\ \\ \\text{condición de Dirichlet radio interno}  \\ \\ \\partial \\Omega_{1}\\\\   T= 310,15 K  \\ \\ \\text{condición de Dirichlet radio externo} \\ \\ \\partial \\Omega_{2} \\end{array} \\right.$$\n",
    "\n",
    "Hemos considerado sin fuente de calor $f = 0$. Aquí los bordes $\\partial \\Omega_{1}$ y $\\partial \\Omega_{2}$ serán las circunferencias internas y externas marcadas con 10 y 20, respectivamente (en el archivo .geo). Considerando la fórmula de Green, como vimos en el [tutorial anterior](https://github.com/rirastorza/Intro2FEM/blob/master/Elementos_finitos_en_2D/fem2D.ipynb), nos queda:\n",
    "\n",
    "$$\\int_{\\Omega}k\\nabla T \\ \\cdot \\nabla v  da - \\int_{\\partial \\Omega} v k\\nabla T \\cdot \\overrightarrow{n}  ds=\\int_{\\Omega} f \\ v \\ da. \\tag{3}$$\n",
    "\n",
    "Como las condiciones de borde son ambas Dirichlet, entonces el segundo término de la izquierda lo podemos anular eligiendo convenientemente la función de prueba. Entonces queda:\n",
    "\n",
    "$$\\int_{\\Omega}k\\nabla T \\ \\cdot \\nabla v  da =\\int_{\\Omega} f \\ v \\ da. \\tag{4}$$\n",
    "\n",
    "Esto lo podemos escribir directamente en FEniCS. Cuidado que aquí la conductividad térmica $k(x,y)$ es **función de la posición** entonces debemos decirle esto a FEniCS."
   ]
  },
  {
   "cell_type": "code",
   "execution_count": 5,
   "metadata": {},
   "outputs": [
    {
     "name": "stdout",
     "output_type": "stream",
     "text": [
      "WARNING: user expression has not supplied value_shape method or an element. Assuming scalar element.\n"
     ]
    }
   ],
   "source": [
    "tol = 1E-14\n",
    "#Constantes termicas\n",
    "k_0 = Constant(10.0)\n",
    "k_1 = Constant(400.0)\n",
    "\n",
    "#Fuente, Temperatura variable\n",
    "Tb = 310.15 #En Kelvin\n",
    "DeltaT = 4.0\n",
    "\n",
    "V = FunctionSpace(mesh, 'CG', 2)\n",
    "\n",
    "#Defino condiciones de contorno por medio del archivo xml\n",
    "bx0 = DirichletBC(V, Constant(Tb+DeltaT), boundary_markers,10)\n",
    "bx1 = DirichletBC(V, Constant(Tb), boundary_markers, 20)\n",
    "bcs = [bx0,bx1]\n",
    "\n",
    "class K(UserExpression):\n",
    "    def __init__(self, subdomains, k_0, k_1, **kwargs):\n",
    "        super().__init__(**kwargs)\n",
    "        self.subdomains = subdomains\n",
    "        self.k_0 = k_0\n",
    "        self.k_1 = k_1        \n",
    "    def eval_cell(self, values, x, cell):\n",
    "        if self.subdomains[cell.index] == 2:#capa interna del cilindro\n",
    "            values[0] = self.k_0\n",
    "        else:#capa externa del cilindro\n",
    "            values[0] = self.k_1\n",
    "\n",
    "kappa = K(subdomains, k_0, k_1, degree=2)\n"
   ]
  },
  {
   "cell_type": "markdown",
   "metadata": {},
   "source": [
    "Note que aquí ya le hemos pasado los marcadores definidos en Gmsh, tanto a las condiciones de borde (10 y 20) como a la función que define la conductividad térmica (1 y 2).\n",
    "\n",
    "Ahora si, escribmos la formulación variacional. Pero la vamos a escribir así:\n",
    "\n",
    "$$F = \\int_{\\Omega}k\\nabla T \\ \\cdot \\nabla v  da - \\int_{\\Omega} f \\ v \\ da = 0 \\tag{5}$$"
   ]
  },
  {
   "cell_type": "code",
   "execution_count": 6,
   "metadata": {},
   "outputs": [],
   "source": [
    "u = Function(V)  \n",
    "v = TestFunction(V)\n",
    "f = Constant(0.00)\n",
    "\n",
    "dx = dx(subdomain_data=subdomains)\n",
    "ds = ds(subdomain_data=boundary_markers)\n",
    "\n",
    "F = kappa*dot(grad(u), grad(v))*dx-f*v*dx"
   ]
  },
  {
   "cell_type": "markdown",
   "metadata": {},
   "source": [
    "Ahora la solución la haremos de forma iterativa, en particular utiliza un algoritmo denominado método inexacto de Newton para resolverlo (hablaremos de esto más adelante)."
   ]
  },
  {
   "cell_type": "code",
   "execution_count": 7,
   "metadata": {},
   "outputs": [],
   "source": [
    "solve(F == 0, u, bcs)"
   ]
  },
  {
   "cell_type": "markdown",
   "metadata": {},
   "source": [
    "Una vez que tenemos la solución, podemos calcular la tasa de flujo de calor por unidad de longitud así la comparamos con el resultado teórico. Para esto, primero debemos seleccionar la superficie (en este caso borde) donde queremos estimar el flujo, en este caso está etiquetada con 20. Note que también tenemos que conseguir la dirección normal para poder calcular lo siguiente:\n",
    "\n",
    "$$\\frac{q}{L} = -\\int_{\\partial \\Omega_{2}} k\\nabla T \\cdot \\overrightarrow{n} \\ \\ ds\\$$"
   ]
  },
  {
   "cell_type": "code",
   "execution_count": 8,
   "metadata": {},
   "outputs": [
    {
     "name": "stdout",
     "output_type": "stream",
     "text": [
      "Flujo numerico: 924.5133828442019\n"
     ]
    }
   ],
   "source": [
    "#Cálculo del flujo\n",
    "ds = Measure('ds', domain=mesh, subdomain_data=boundary_markers)\n",
    "n = FacetNormal(mesh)\n",
    "flux = -(kappa)*dot(grad(u),n)*ds(20)\n",
    "total_flux = assemble(flux)\n",
    "print('Flujo numerico:',total_flux)"
   ]
  },
  {
   "cell_type": "markdown",
   "metadata": {},
   "source": [
    "Vemos que la diferencia es muy poca, se puede reducir haciendo una malla más fina."
   ]
  },
  {
   "cell_type": "markdown",
   "metadata": {},
   "source": [
    "## Problema con conductividad dependiente de la temperatura\n",
    "\n",
    "El definir la formulación variacional de la forma $F = 0$ nos permite también utilizar este código para resolver problemas en los que la conductividad térmica depende de la temperatura. Es decir:\n",
    "\n",
    "$$ \\left \\{ \\begin{array}{l} -\\left(\\nabla \\cdot k\\left(T\\right) \\nabla T\\right)=f \\ \\ \\text{ para } \\ \\ x\\in \\Omega \\\\   T= 314,15 K  \\ \\ \\text{condición de Dirichlet radio interno}  \\ \\ \\partial \\Omega_{1}\\\\   T= 310,15 K  \\ \\ \\text{condición de Dirichlet radio externo} \\ \\ \\partial \\Omega_{2} \\end{array} \\right.$$\n",
    "\n",
    "Ahora la conductividad dependerá de la posición y de la temperatura, es decir, la misma función que quiero computar. Por ejemplo, un función de temperatura que se utiliza mucho es la aproximación lineal en un rango no muy lejano de la temperatura de funcionamiento (digamos $T_{0}$). Supongamos que ésta aumenta el 2 % con el cambio de temperatura, es decir:\n",
    "\n",
    "$$ k = k_{0}+\\alpha k_{0} \\left( T-T_{0} \\right) = k_{0}\\left( 1+\\alpha \\left( T-T_{0}\\right) \\right)$$\n",
    "\n",
    "donde $\\alpha = 0,02 \\ \\ K^{-1}$ y $k_{0}$ es la conductividad térmica a la temperatura $T_{0}$. En este tipo de problemas no voy a poder llegar a una expresión del tipo: $A\\xi = b$. Por lo tanto, primero se linealiza y luego se resuelve iterativamente. En el medio, tiene que estimar el $F^{'}$. Por ahora no vamos a profundizar mucho en esto, simplemente vamos a expresar la formulación variacional como sigue:"
   ]
  },
  {
   "cell_type": "code",
   "execution_count": null,
   "metadata": {},
   "outputs": [],
   "source": [
    "F = kappa*(1+alfa*(u-Constant(310.15)))*dot(grad(u), grad(v))*dx-f*v*dx"
   ]
  },
  {
   "cell_type": "markdown",
   "metadata": {},
   "source": [
    "Esto último está resuelto en el *ejemplo 12.py*. Más adelante hablaremos de las soluciones de sistemas lineales y no lineales del tipo a los que aparecen con elementos fintos."
   ]
  },
  {
   "cell_type": "code",
   "execution_count": null,
   "metadata": {},
   "outputs": [],
   "source": []
  }
 ],
 "metadata": {
  "kernelspec": {
   "display_name": "Python 3",
   "language": "python",
   "name": "python3"
  },
  "language_info": {
   "codemirror_mode": {
    "name": "ipython",
    "version": 3
   },
   "file_extension": ".py",
   "mimetype": "text/x-python",
   "name": "python",
   "nbconvert_exporter": "python",
   "pygments_lexer": "ipython3",
   "version": "3.5.2"
  }
 },
 "nbformat": 4,
 "nbformat_minor": 2
}
