{
 "cells": [
  {
   "cell_type": "markdown",
   "metadata": {},
   "source": [
    "# Termoelasticidad lineal\n",
    "\n",
    "Nota: a este documento no lo podremos ejecutar de manera dinámica con Binder, sólo lo podrán correr si tienen instalado:\n",
    "\n",
    "- Python 3.5 o más nuevo instalado.\n",
    "- [Jupyter Notebook](https://jupyter.readthedocs.io/en/latest/install.html).\n",
    "- [FEniCS](https://fenicsproject.org/).\n",
    "\n",
    "### Referencias\n",
    "\n",
    "- También sacamos el ejemplo del siguiente [enlace](https://comet-fenics.readthedocs.io/)."
   ]
  },
  {
   "cell_type": "markdown",
   "metadata": {},
   "source": [
    "## Introducción\n",
    "\n",
    "En este tutorial comenzaremos a trabajar con problemas acoplados, esto significa que implementaremos dos (o más) problemas físicos diferentes, por esta razón en los últimos años se los suele llamar simulaciones multifísicas. Esto significa que habrá muchas situaciones en que debemos resolver un sistema de Ecuaciones Diferenciales en Derivadas Parciales (sistema de PDEs) que gobiernan físicas bien diferentes y que están acopladas por alguna variable que las relaciona. Como ejemplos clásicos podemos mencionar la combinación de:\n",
    "\n",
    "- la ecuación del calor con la de elasticidad\n",
    "- la del problema eléctrico con la de calor ([enlace](https://github.com/rirastorza/RFA-tutorial))\n",
    "- las ecuaciones de advección–difusión-reacción de dos especies químicas ([enlace](https://fenicsproject.org/pub/tutorial/html/._ftut1010.html#ftut1:reactionsystem))\n",
    "\n",
    "### Termoelasticidad lineal\n",
    "\n",
    "Comenzaremos por un caso de mucho interés en mecánica la denominada **termoelasticidad**. Sabemos que calentar o enfriar un material produce una expansión o contracción, respectivamente. Consideremos el caso de deformación *isotrópica* y en estado *estacionario*, es decir, la deformación es igual en las tres direcciones y esperamos suficiente tiempo a una determinada temperatura. En palabras, a la deformación mecánica debida a las solicitudes de la pieza le sumaremos la deformación debida a la expansión (o contracción) térmica producida por el aumento (o disminución) de la temperatura. En ecuaciones, debemos modificar la ley de Hooke y agregar el término de expansión térmica:\n",
    "\n",
    "$$\\varepsilon_{T} = \\alpha \\left(T-T_{0}\\right)I \\tag{1}$$.\n",
    "\n",
    "Noten que esta ecuación es una aproximación de una serie de Taylor de la deformación $\\varepsilon_{T}$ que llega sólo hasta el término lineal, por eso el título es termoelasticidad lineal. El coeficiente $\\alpha$ es el de **dilatación lineal térmica**, si estamos trabajando en 3D será un coeficiente volumétrico $\\alpha_{v}$, aunque nos encontraremos muy a menudo con el lineal $\\alpha_{\\ell}$. Si es el medio es isotrópico $\\alpha_{v} = 3\\alpha_{\\ell}$.\n",
    "\n",
    "La *ley de Hooke* considerando ahora el término de dilatación térmica será:\n",
    "\n",
    "$$\\sigma = 2\\mu\\varepsilon+\\lambda tr\\left(\\varepsilon \\right)  I -\\alpha \\left(3\\lambda+ 2\\mu\\right)\\left(T-T_{0}\\right)I \\tag{2}$$\n",
    "\n",
    "Aquí aparecen el acoplamiento entre las variables tensión, deformación, desplazamiento y temperatura. Si quisieramos resolverlo deberíamos acoplar todo al mismo tiempo, tal como figura en el trabajo de [Farhat y otros](https://www.sciencedirect.com/science/article/pii/004578259190102C):\n",
    "\n",
    "$$\\rho \\ddot{u} = \\nabla \\cdot \\sigma + b \\tag{3}$$\n",
    "\n",
    "aquí $b$ es la fuerza debido al peso de la pieza (body force) y $\\rho$ es la densidad, tal como vimos en el [tutorial de elastodinámica](https://github.com/rirastorza/Intro2FEM/blob/master/Problemas_dependientes_del_tiempo/Problema_elastodinamico.ipynb).\n",
    "\n",
    "$$c \\dot{T} = \\nabla \\cdot k \\nabla T -\\alpha \\left(3\\lambda+2\\mu\\right)T_{0}tr\\left(\\dot{\\varepsilon}\\right) + f \\tag{4}$$\n",
    "\n",
    "en este caso estamos utilizando la misma relación que en el [tutorial de ecuación de calor](https://github.com/rirastorza/Intro2FEM/blob/master/Problemas_dependientes_del_tiempo/Introduccion_problema_termico.ipynb). La diferencia aquí es que agregamos un término $\\alpha \\left(3\\lambda+2\\mu\\right)T_{0}tr\\left(\\dot{\\varepsilon}\\right)$, esto sale de plantear que el cambio de entropía del sistema con la temperatura (ver término de expansión volumétrica [acá](https://authors.library.caltech.edu/25018/6/TOE05.pdf) y [acá](http://homepages.engineering.auckland.ac.nz/~pkel015/SolidMechanicsBooks/Part_IV/Chapter_2_Applications/PDF/02_Thermomech_Applications_02_Thermoelasticity.pdf)) se debe ahora al calor y al cambio de volumen. En la Ec. (4) el término $f$ es una fuente de calor. Hemos omitido aquí la relación entre deformación y desplazamiento $\\varepsilon = \\frac{1}{2}\\left(\\nabla u + \\nabla u^{T}\\right)$.\n",
    "\n",
    "Pasando un poco en limpio, aquí debemos resolver dos PDEs Ec. (3) y (4) y tenemos dos variables $u$ y $T$, uno es un campo vectorial y el otro uno escalar.\n",
    "\n",
    "En el **caso estacionario**, el problema más simple es acoplar débilmente los campos mencionados, esto significa esencialmente, desacoplarlos y pensar que un aumento de la temperatura provoca una expansión, calcular el desplazamiento debido a esa expansión y el peso de la pieza. Por lo tanto, arreglamos un poco las Ecs. (3) y (4) reemplazándolas por:\n",
    "\n",
    "$$\\nabla \\cdot k \\nabla T = 0 \\tag{5}$$\n",
    "\n",
    "hemos tirado todos los términos dependientes del tiempo (también el que depende de $\\dot{\\varepsilon}$ que acoplaba la Ec. (4) con la (3)) y también el de la fuente de calor $f$. Con esta ecuación calculamos la temperatura. Las mecánicas quedan parecidas, con la diferencia que la ley de Hooke está modificada por la expansión térmica.\n",
    "\n",
    "$$\\nabla \\cdot \\sigma + b = 0 \\tag{6}$$\n",
    "\n",
    "$$\\sigma = 2\\mu\\varepsilon+\\lambda tr\\left(\\varepsilon \\right)  I -\\alpha \\left(3\\lambda+ 2\\mu\\right)\\left(T-T_{0}\\right)I \\tag{7}$$\n",
    "\n",
    "$$\\varepsilon = \\frac{1}{2}\\left(\\nabla u + \\nabla u^{T}\\right)\\tag{8}$$\n",
    "\n",
    "Con estas tres ecuaciones calculamos cuánto se desplazó.\n",
    "\n",
    "### Ejemplo\n",
    "\n",
    "Todo el código está subido a la carpeta ejemplos con el nombre de *ejemplo22.py*.\n",
    "\n",
    "\n",
    "[<img src=\"imagen1.png\" width=\"400\"/>](imagen1.png)\n",
    "\n",
    "El problema es el mostrado en la figura: una barra empotrada en ambos lados (rígidos) y sometida a una temperatura ($T_{0}+\\Delta T$) en la parte inferior. Supongamos que la barra tiene 5 mm y de ancho 0.3 mm. Como siempre, definimos algunos parámetros y luego la malla."
   ]
  },
  {
   "cell_type": "code",
   "execution_count": 1,
   "metadata": {},
   "outputs": [],
   "source": [
    "from __future__ import print_function\n",
    "from dolfin import *\n",
    "from mshr import *\n",
    "import matplotlib.pyplot as plt\n",
    "\n",
    "L, H = 5, 0.3\n",
    "mesh = RectangleMesh(Point(0., 0.), Point(L, H), 100, 10, \"crossed\")\n"
   ]
  },
  {
   "cell_type": "markdown",
   "metadata": {},
   "source": [
    "Creamos las funciones para los bordes."
   ]
  },
  {
   "cell_type": "code",
   "execution_count": 2,
   "metadata": {},
   "outputs": [],
   "source": [
    "def laterales(x, on_boundary):\n",
    "    return (near(x[0], 0) or near(x[0], L)) and on_boundary\n",
    "def abajo(x, on_boundary):\n",
    "    return near(x[1], 0) and on_boundary\n",
    "def arriba(x, on_boundary):\n",
    "    return near(x[1], H) and on_boundary"
   ]
  },
  {
   "cell_type": "markdown",
   "metadata": {},
   "source": [
    "Sabemos que la formulación variacional para el [problema térmico estacionario](https://github.com/rirastorza/Intro2FEM/blob/master/Elementos_finitos_en_2D/termico2D.ipynb) es la resolución de la ecuación de Poisson:\n",
    "\n",
    "$$\\int_{\\Omega}k\\nabla T \\ \\cdot \\nabla v  da =\\int_{\\Omega} f \\ v \\ da$$\n",
    "\n",
    "aquí $f$ es igual a cero.\n"
   ]
  },
  {
   "cell_type": "code",
   "execution_count": 4,
   "metadata": {},
   "outputs": [
    {
     "data": {
      "image/png": "[encoded data removed]",
      "text/plain": [
       "<Figure size 432x288 with 2 Axes>"
      ]
     },
     "metadata": {
      "needs_background": "light"
     },
     "output_type": "display_data"
    }
   ],
   "source": [
    "VT = FunctionSpace(mesh, \"CG\", 1)#Lagrange de orden 1 (temperatura es un escalar)\n",
    "T_, dT = TestFunction(VT), TrialFunction(VT) #Ojo T_ es la función de test (v)\n",
    "Delta_T = Function(VT, name=\"Incremento de la temperatura\")\n",
    "k=0.1 #Da lo mismo cualquier valor que ponga en estado estacionario.\n",
    "aT = k*dot(grad(dT), grad(T_))*dx\n",
    "LT = Constant(0)*T_*dx\n",
    "\n",
    "bcT = [DirichletBC(VT, Constant(50.), abajo), \n",
    "       DirichletBC(VT, Constant(0.), arriba),\n",
    "       DirichletBC(VT, Constant(0.), laterales)]\n",
    "solve(aT == LT, Delta_T, bcT)#Pone en Delta_T el valor despejado\n",
    "plt.figure()\n",
    "p = plot(Delta_T,title=\"Delta T\")#, mode=\"contour\")\n",
    "plt.colorbar(p)\n",
    "plt.show()"
   ]
  },
  {
   "cell_type": "markdown",
   "metadata": {},
   "source": [
    "Resolvimos entonces como se distribuye la temperatura en toda la barra. Note que le pusimos un cambio de temperatura $\\Delta T = 50$ °C. Note además, que tal como está planteado el problema, con cualquier conductividad térmica dará lo mismo.\n",
    "\n",
    "Ahora tenemos que resolver cuánto se va a expandir, y simultánemente el desplazamiento por el propio peso de la barra.\n",
    "\n",
    "Definimos las constantes: "
   ]
  },
  {
   "cell_type": "code",
   "execution_count": 9,
   "metadata": {},
   "outputs": [],
   "source": [
    "E = Constant(50e3)\n",
    "nu = Constant(0.2)\n",
    "mu = E/2/(1+nu)\n",
    "lmbda = E*nu/(1+nu)/(1-2*nu)\n",
    "alpha = Constant(1e-5)\n",
    "rho_g = 1e-3\n",
    "b = Constant((0, -rho_g))"
   ]
  },
  {
   "cell_type": "markdown",
   "metadata": {},
   "source": [
    "Y ahora definimos las Ecs. (7) y (8). Notar que la función de la tensión debe contener también la temperatura."
   ]
  },
  {
   "cell_type": "code",
   "execution_count": 10,
   "metadata": {},
   "outputs": [],
   "source": [
    "def eps(v):\n",
    "    return sym(grad(v))\n",
    "def sigma(v, dT):\n",
    "    return (lmbda*tr(eps(v))- alpha*(3*lmbda+2*mu)*dT)*Identity(2) + 2.0*mu*eps(v)"
   ]
  },
  {
   "cell_type": "markdown",
   "metadata": {},
   "source": [
    "Ahora debemos definir el campo vectorial que será la función de prueba para el desplazamiento."
   ]
  },
  {
   "cell_type": "code",
   "execution_count": 11,
   "metadata": {},
   "outputs": [],
   "source": [
    "Vu = VectorFunctionSpace(mesh, 'CG', 2) #Es una tensor\n",
    "du = TrialFunction(Vu)\n",
    "u_ = TestFunction(Vu)#Ojo esta es la función test"
   ]
  },
  {
   "cell_type": "markdown",
   "metadata": {},
   "source": [
    "La formulación variacional de problema mecánico como ya lo hemos aprendido en el [tutorial de elasticidad](https://github.com/rirastorza/Intro2FEM/blob/master/Elementos_finitos_en_2D/ElasticidadLineal2D.ipynb): \n",
    "\n",
    "$$ \\int_{\\Omega} \\sigma : \\underbrace{\\nabla w}_{\\varepsilon\\left(w\\right)} \\ dx-\\int_{\\partial\\Omega_{N}}\\underbrace{h}_{\\sigma \\cdot n} w \\ ds - \\int_{\\Omega} bw \\ dx = 0.$$\n",
    "\n",
    "aquí la función de prueba la llamamos $w$, en el código u_. Note que utilizaremos una versión todavía más simple, porque las condiciones de borde son de Dirichlet.\n",
    "\n",
    "$$ \\int_{\\Omega} \\sigma : \\underbrace{\\nabla w}_{\\varepsilon\\left(w\\right)} \\ dx = \\int_{\\Omega} bw \\ dx.$$\n"
   ]
  },
  {
   "cell_type": "code",
   "execution_count": 12,
   "metadata": {},
   "outputs": [],
   "source": [
    "Wint = inner(sigma(du, Delta_T), eps(u_))*dx #Delta_T ya es  conocida del anterior\n",
    "aM = lhs(Wint)\n",
    "LM = rhs(Wint) + inner(b, u_)*dx\n",
    "bcu = DirichletBC(Vu, Constant((0., 0.)), laterales)"
   ]
  },
  {
   "cell_type": "markdown",
   "metadata": {},
   "source": [
    "Finalmente, resolvemos y dibujamos."
   ]
  },
  {
   "cell_type": "code",
   "execution_count": 13,
   "metadata": {},
   "outputs": [
    {
     "data": {
      "image/png": "[encoded data removed]",
      "text/plain": [
       "<Figure size 432x288 with 2 Axes>"
      ]
     },
     "metadata": {
      "needs_background": "light"
     },
     "output_type": "display_data"
    },
    {
     "data": {
      "image/png": "[encoded data removed]",
      "text/plain": [
       "<Figure size 432x288 with 2 Axes>"
      ]
     },
     "metadata": {
      "needs_background": "light"
     },
     "output_type": "display_data"
    }
   ],
   "source": [
    "u = Function(Vu, name=\"Desplazamiento\")\n",
    "solve(aM == LM, u, bcu)\n",
    "plt.figure()\n",
    "p = plot(1e3*u,title=\"Desplazamiento [mm]\", mode=\"displacement\")\n",
    "plt.colorbar(p)\n",
    "plt.figure()\n",
    "p = plot(sigma(u, Delta_T)[0, 0],title=\"Tensión horizontal [MPa]\")\n",
    "plt.colorbar(p)\n",
    "plt.show()"
   ]
  },
  {
   "cell_type": "code",
   "execution_count": null,
   "metadata": {},
   "outputs": [],
   "source": []
  }
 ],
 "metadata": {
  "kernelspec": {
   "display_name": "Python 3",
   "language": "python",
   "name": "python3"
  },
  "language_info": {
   "codemirror_mode": {
    "name": "ipython",
    "version": 3
   },
   "file_extension": ".py",
   "mimetype": "text/x-python",
   "name": "python",
   "nbconvert_exporter": "python",
   "pygments_lexer": "ipython3",
   "version": "3.5.2"
  }
 },
 "nbformat": 4,
 "nbformat_minor": 2
}
